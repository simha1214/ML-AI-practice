{
 "cells": [
  {
   "cell_type": "code",
   "execution_count": 1,
   "metadata": {
    "scrolled": true
   },
   "outputs": [
    {
     "name": "stderr",
     "output_type": "stream",
     "text": [
      "C:\\Users\\Simha\\Anaconda3\\lib\\site-packages\\sklearn\\cross_validation.py:41: DeprecationWarning: This module was deprecated in version 0.18 in favor of the model_selection module into which all the refactored classes and functions are moved. Also note that the interface of the new CV iterators are different from that of this module. This module will be removed in 0.20.\n",
      "  \"This module will be removed in 0.20.\", DeprecationWarning)\n",
      "C:\\Users\\Simha\\Anaconda3\\lib\\site-packages\\gensim\\utils.py:1212: UserWarning: detected Windows; aliasing chunkize to chunkize_serial\n",
      "  warnings.warn(\"detected Windows; aliasing chunkize to chunkize_serial\")\n"
     ]
    }
   ],
   "source": [
    "import warnings\n",
    "warnings.filterwarnings(\"ignore\")\n",
    "import pandas as pd\n",
    "import numpy as np\n",
    "import seaborn as sn\n",
    "import matplotlib.pyplot as plt\n",
    "from matplotlib.colors import ListedColormap\n",
    "\n",
    "from sklearn.cross_validation import train_test_split\n",
    "from sklearn.cross_validation import cross_val_score\n",
    "from sklearn.metrics import accuracy_score\n",
    "from sklearn.neighbors import KNeighborsClassifier\n",
    "from collections import Counter\n",
    "from sklearn import cross_validation\n",
    "import sqlite3\n",
    "\n",
    "from sklearn.feature_extraction.text import CountVectorizer\n",
    "from sklearn.feature_extraction.text import TfidfVectorizer\n",
    "\n",
    "from gensim.models import Word2Vec\n",
    "from gensim.models import KeyedVectors\n",
    "import pickle\n",
    "from tqdm import tqdm\n",
    "\n",
    "import seaborn as sn\n",
    "import nltk\n",
    "import string\n",
    "#from sklearn.manifold import TSNE\n",
    "\n",
    "from sklearn.decomposition import TruncatedSVD\n",
    "from sklearn.metrics import roc_curve\n",
    "from sklearn.metrics import f1_score\n",
    "from sklearn.metrics import confusion_matrix,classification_report\n",
    "from sklearn.metrics import precision_recall_fscore_support"
   ]
  },
  {
   "cell_type": "code",
   "execution_count": 2,
   "metadata": {
    "scrolled": true
   },
   "outputs": [],
   "source": [
    "# Connecting to sqlite3 and fetching input data.\n",
    "\n",
    "conn=sqlite3.connect('final.sqlite')\n",
    "\n",
    "filter_data=pd.read_sql_query(\"\"\" Select * from Reviews where Score!=3\"\"\",conn)"
   ]
  },
  {
   "cell_type": "code",
   "execution_count": 3,
   "metadata": {
    "scrolled": true
   },
   "outputs": [
    {
     "name": "stdout",
     "output_type": "stream",
     "text": [
      "(364171, 13)\n"
     ]
    },
    {
     "data": {
      "text/html": [
       "<div>\n",
       "<style scoped>\n",
       "    .dataframe tbody tr th:only-of-type {\n",
       "        vertical-align: middle;\n",
       "    }\n",
       "\n",
       "    .dataframe tbody tr th {\n",
       "        vertical-align: top;\n",
       "    }\n",
       "\n",
       "    .dataframe thead th {\n",
       "        text-align: right;\n",
       "    }\n",
       "</style>\n",
       "<table border=\"1\" class=\"dataframe\">\n",
       "  <thead>\n",
       "    <tr style=\"text-align: right;\">\n",
       "      <th></th>\n",
       "      <th>level_0</th>\n",
       "      <th>index</th>\n",
       "      <th>Id</th>\n",
       "      <th>ProductId</th>\n",
       "      <th>UserId</th>\n",
       "      <th>ProfileName</th>\n",
       "      <th>HelpfulnessNumerator</th>\n",
       "      <th>HelpfulnessDenominator</th>\n",
       "      <th>Score</th>\n",
       "      <th>Time</th>\n",
       "      <th>Summary</th>\n",
       "      <th>Text</th>\n",
       "      <th>CleanedText</th>\n",
       "    </tr>\n",
       "  </thead>\n",
       "  <tbody>\n",
       "    <tr>\n",
       "      <th>0</th>\n",
       "      <td>0</td>\n",
       "      <td>138706</td>\n",
       "      <td>150524</td>\n",
       "      <td>0006641040</td>\n",
       "      <td>ACITT7DI6IDDL</td>\n",
       "      <td>shari zychinski</td>\n",
       "      <td>0</td>\n",
       "      <td>0</td>\n",
       "      <td>1</td>\n",
       "      <td>939340800</td>\n",
       "      <td>EVERY book is educational</td>\n",
       "      <td>this witty little book makes my son laugh at l...</td>\n",
       "      <td>witti littl book make son laugh loud recit car...</td>\n",
       "    </tr>\n",
       "    <tr>\n",
       "      <th>1</th>\n",
       "      <td>1</td>\n",
       "      <td>138688</td>\n",
       "      <td>150506</td>\n",
       "      <td>0006641040</td>\n",
       "      <td>A2IW4PEEKO2R0U</td>\n",
       "      <td>Tracy</td>\n",
       "      <td>1</td>\n",
       "      <td>1</td>\n",
       "      <td>1</td>\n",
       "      <td>1194739200</td>\n",
       "      <td>Love the book, miss the hard cover version</td>\n",
       "      <td>I grew up reading these Sendak books, and watc...</td>\n",
       "      <td>grew read sendak book watch realli rosi movi i...</td>\n",
       "    </tr>\n",
       "    <tr>\n",
       "      <th>2</th>\n",
       "      <td>2</td>\n",
       "      <td>138689</td>\n",
       "      <td>150507</td>\n",
       "      <td>0006641040</td>\n",
       "      <td>A1S4A3IQ2MU7V4</td>\n",
       "      <td>sally sue \"sally sue\"</td>\n",
       "      <td>1</td>\n",
       "      <td>1</td>\n",
       "      <td>1</td>\n",
       "      <td>1191456000</td>\n",
       "      <td>chicken soup with rice months</td>\n",
       "      <td>This is a fun way for children to learn their ...</td>\n",
       "      <td>fun way children learn month year learn poem t...</td>\n",
       "    </tr>\n",
       "  </tbody>\n",
       "</table>\n",
       "</div>"
      ],
      "text/plain": [
       "   level_0   index      Id   ProductId          UserId            ProfileName  \\\n",
       "0        0  138706  150524  0006641040   ACITT7DI6IDDL        shari zychinski   \n",
       "1        1  138688  150506  0006641040  A2IW4PEEKO2R0U                  Tracy   \n",
       "2        2  138689  150507  0006641040  A1S4A3IQ2MU7V4  sally sue \"sally sue\"   \n",
       "\n",
       "   HelpfulnessNumerator  HelpfulnessDenominator  Score        Time  \\\n",
       "0                     0                       0      1   939340800   \n",
       "1                     1                       1      1  1194739200   \n",
       "2                     1                       1      1  1191456000   \n",
       "\n",
       "                                      Summary  \\\n",
       "0                   EVERY book is educational   \n",
       "1  Love the book, miss the hard cover version   \n",
       "2               chicken soup with rice months   \n",
       "\n",
       "                                                Text  \\\n",
       "0  this witty little book makes my son laugh at l...   \n",
       "1  I grew up reading these Sendak books, and watc...   \n",
       "2  This is a fun way for children to learn their ...   \n",
       "\n",
       "                                         CleanedText  \n",
       "0  witti littl book make son laugh loud recit car...  \n",
       "1  grew read sendak book watch realli rosi movi i...  \n",
       "2  fun way children learn month year learn poem t...  "
      ]
     },
     "execution_count": 3,
     "metadata": {},
     "output_type": "execute_result"
    }
   ],
   "source": [
    "print(filter_data.shape)\n",
    "filter_data.head(3)"
   ]
  },
  {
   "cell_type": "code",
   "execution_count": 4,
   "metadata": {
    "scrolled": true
   },
   "outputs": [
    {
     "name": "stdout",
     "output_type": "stream",
     "text": [
      "(58268, 13)\n"
     ]
    }
   ],
   "source": [
    "#fetching some random subset of records from total input, as our system config is less\n",
    "sliced_data,useful_data= cross_validation.train_test_split(filter_data,test_size=0.16,random_state=4)\n",
    "\n",
    "print(useful_data.shape)"
   ]
  },
  {
   "cell_type": "code",
   "execution_count": 5,
   "metadata": {
    "scrolled": true
   },
   "outputs": [
    {
     "data": {
      "text/plain": [
       "1    49057\n",
       "0     9211\n",
       "Name: Score, dtype: int64"
      ]
     },
     "execution_count": 5,
     "metadata": {},
     "output_type": "execute_result"
    }
   ],
   "source": [
    "#Converting date field from seconds format to standard date format.\n",
    "useful_data['Time']=pd.to_datetime(useful_data.Time)\n",
    "\n",
    "\n",
    "#Sort the data now based on time stamp\n",
    "sorted_usefuldata=useful_data.sort_values(by='Time',ascending=True,axis=0,inplace=False,kind='quicksort',na_position='last')\n",
    "\n",
    "sorted_usefuldata.head(2)\n",
    "\n",
    "sorted_usefuldata.tail(2)\n",
    "sorted_usefuldata['Score'].value_counts()"
   ]
  },
  {
   "cell_type": "code",
   "execution_count": 6,
   "metadata": {
    "scrolled": true
   },
   "outputs": [],
   "source": [
    "#Renaming finalised data variable name.\n",
    "fin_data=sorted_usefuldata"
   ]
  },
  {
   "cell_type": "code",
   "execution_count": 7,
   "metadata": {
    "scrolled": true
   },
   "outputs": [
    {
     "name": "stdout",
     "output_type": "stream",
     "text": [
      "46614\n",
      "size of over all train dataset ::  46614\n",
      "size of test dataset ::  11654\n",
      "\n",
      "size of train dataset ::  32630\n",
      "\n",
      "size of Validation dataset ::  13984\n",
      "(32630,)\n",
      "\n",
      " (13984,)\n",
      "\n",
      " (11654,)\n"
     ]
    }
   ],
   "source": [
    "#Splitting sorted data into train and test subsets\n",
    "lim=58268*0.8\n",
    "print(round(lim))\n",
    "fin_train=fin_data[:round(lim)]\n",
    "print('size of over all train dataset :: ',round(lim))\n",
    "fin_test=fin_data[round(lim):]\n",
    "\n",
    "print('size of test dataset :: ',fin_test.shape[0])\n",
    "\n",
    "\n",
    "\n",
    "\n",
    "train_x=fin_train[:round(fin_train.shape[0]*0.7)]\n",
    "valid_x=fin_train[round(fin_train.shape[0]*0.7):]\n",
    "\n",
    "print('\\nsize of train dataset :: ',train_x.shape[0])\n",
    "print('\\nsize of Validation dataset :: ',valid_x.shape[0])\n",
    "\n",
    "#storing our actual polarity of reviews into seperate variables and used as Y column in KNN\n",
    "\n",
    "all_train_y=fin_train['Score']\n",
    "test_y=fin_test['Score']\n",
    "\n",
    "train_y=all_train_y[:32630]\n",
    "valid_y=all_train_y[32630:]\n",
    "\n",
    "print(train_y.shape)\n",
    "print('\\n',valid_y.shape)\n",
    "print('\\n',test_y.shape)"
   ]
  },
  {
   "cell_type": "code",
   "execution_count": 8,
   "metadata": {
    "scrolled": true
   },
   "outputs": [
    {
     "name": "stdout",
     "output_type": "stream",
     "text": [
      "Size of Train data : (32630, 12)  Type of train data : <class 'pandas.core.frame.DataFrame'>\n",
      "Size of validation data : (13984, 12)  Type of validation data : <class 'pandas.core.frame.DataFrame'>\n",
      "Size of Test data : (11654, 12)  Type of test dataset : <class 'pandas.core.frame.DataFrame'>\n"
     ]
    }
   ],
   "source": [
    "# Converting input into Data frame for easy proccessing by dropping Y  column\n",
    "\n",
    "train_x=pd.DataFrame(train_x, columns=['index', 'Id', 'ProductId', 'UserId', 'ProfileName','HelpfulnessNumerator', 'HelpfulnessDenominator', 'Score', 'Time','Summary', 'Text', 'CleanedText'])\n",
    "valid_x=pd.DataFrame(valid_x, columns=['index', 'Id', 'ProductId', 'UserId', 'ProfileName','HelpfulnessNumerator', 'HelpfulnessDenominator', 'Score', 'Time','Summary', 'Text', 'CleanedText'])\n",
    "fin_test=pd.DataFrame(fin_test, columns=['index', 'Id', 'ProductId', 'UserId', 'ProfileName','HelpfulnessNumerator', 'HelpfulnessDenominator', 'Score', 'Time','Summary', 'Text', 'CleanedText'])\n",
    "\n",
    "\n",
    "print('Size of Train data :',train_x.shape,' Type of train data :',type(train_x))\n",
    "print('Size of validation data :',valid_x.shape,' Type of validation data :',type(valid_x))\n",
    "print('Size of Test data :',fin_test.shape,' Type of test dataset :',type(fin_test))"
   ]
  },
  {
   "cell_type": "markdown",
   "metadata": {},
   "source": [
    "# Implementing BOW and then applying KNN on it."
   ]
  },
  {
   "cell_type": "code",
   "execution_count": 10,
   "metadata": {
    "scrolled": true
   },
   "outputs": [
    {
     "name": "stdout",
     "output_type": "stream",
     "text": [
      "the type of train count vectorizer  <class 'scipy.sparse.csr.csr_matrix'>\n",
      "the shape of train out text BOW vectorizer  (32630, 22431)\n",
      "the number of unique words in train data set   22431\n",
      "\n",
      "\n",
      "the type of validation count vectorizer  <class 'scipy.sparse.csr.csr_matrix'>\n",
      "the shape of validation out text BOW vectorizer  (13984, 22431)\n",
      "the number of unique words in validation data set   22431\n",
      "\n",
      "\n",
      "the type of test count vectorizer  <class 'scipy.sparse.csr.csr_matrix'>\n",
      "the shape of test out text BOW vectorizer  (11654, 22431)\n",
      "the number of unique words in test dataset  22431\n"
     ]
    }
   ],
   "source": [
    "bow_model=CountVectorizer()\n",
    "\n",
    "fin_train_counts=bow_model.fit_transform(train_x['CleanedText'].values)\n",
    "\n",
    "fin_valid_counts=bow_model.transform(valid_x['CleanedText'].values)\n",
    "\n",
    "fin_test_counts=bow_model.transform(fin_test['CleanedText'].values)\n",
    "\n",
    "print(\"the type of train count vectorizer \",type(fin_train_counts))\n",
    "print(\"the shape of train out text BOW vectorizer \",fin_train_counts.get_shape())\n",
    "print(\"the number of unique words in train data set  \", fin_train_counts.get_shape()[1])\n",
    "\n",
    "\n",
    "print(\"\\n\\nthe type of validation count vectorizer \",type(fin_valid_counts))\n",
    "print(\"the shape of validation out text BOW vectorizer \",fin_valid_counts.get_shape())\n",
    "print(\"the number of unique words in validation data set  \", fin_valid_counts.get_shape()[1])\n",
    "\n",
    "\n",
    "\n",
    "print(\"\\n\\nthe type of test count vectorizer \",type(fin_test_counts))\n",
    "print(\"the shape of test out text BOW vectorizer \",fin_test_counts.get_shape())\n",
    "print(\"the number of unique words in test dataset \", fin_test_counts.get_shape()[1])"
   ]
  },
  {
   "cell_type": "code",
   "execution_count": 11,
   "metadata": {
    "scrolled": true
   },
   "outputs": [
    {
     "name": "stdout",
     "output_type": "stream",
     "text": [
      "<class 'numpy.ndarray'>\n",
      "\n",
      " shape of trained and reduced final data is :  (32630, 50)\n"
     ]
    }
   ],
   "source": [
    "#Converting to lower dimensions here i am taking 50 dimensions using truncatedSVD\n",
    "\n",
    "tsvd_model=TruncatedSVD(n_components=50,n_iter=7,random_state=14)\n",
    "\n",
    "fin_train_tsvd=tsvd_model.fit_transform(fin_train_counts)\n",
    "\n",
    "print(type(fin_train_tsvd))\n",
    "print('\\n shape of trained and reduced final data is : ',fin_train_tsvd.shape)\n",
    "\n"
   ]
  },
  {
   "cell_type": "code",
   "execution_count": 12,
   "metadata": {
    "scrolled": true
   },
   "outputs": [
    {
     "name": "stdout",
     "output_type": "stream",
     "text": [
      "<class 'numpy.ndarray'>\n",
      "\n",
      " shape of trained and reduced final data is :  (13984, 50)\n"
     ]
    }
   ],
   "source": [
    "fin_valid_tsvd=tsvd_model.fit_transform(fin_valid_counts)\n",
    "\n",
    "print(type(fin_valid_tsvd))\n",
    "print('\\n shape of trained and reduced final data is : ',fin_valid_tsvd.shape)\n",
    "\n"
   ]
  },
  {
   "cell_type": "code",
   "execution_count": 13,
   "metadata": {
    "scrolled": true
   },
   "outputs": [
    {
     "name": "stdout",
     "output_type": "stream",
     "text": [
      "<class 'numpy.ndarray'>\n",
      "\n",
      " shape of trained and reduced final data is :  (11654, 50)\n"
     ]
    }
   ],
   "source": [
    "fin_test_tsvd=tsvd_model.fit_transform(fin_test_counts)\n",
    "\n",
    "print(type(fin_test_tsvd))\n",
    "print('\\n shape of trained and reduced final data is : ',fin_test_tsvd.shape)\n",
    "\n"
   ]
  },
  {
   "cell_type": "code",
   "execution_count": 14,
   "metadata": {
    "scrolled": true
   },
   "outputs": [
    {
     "name": "stdout",
     "output_type": "stream",
     "text": [
      "\n",
      "Accuracy for k = 1 for train data on Validation dataset is -  71.90360411899313\n",
      "\n",
      "Accuracy for k = 3 for train data on Validation dataset is -  76.26573226544623\n",
      "\n",
      "Accuracy for k = 5 for train data on Validation dataset is -  77.98913043478261\n",
      "\n",
      "Accuracy for k = 7 for train data on Validation dataset is -  79.08323798627002\n",
      "\n",
      "Accuracy for k = 9 for train data on Validation dataset is -  79.5337528604119\n",
      "\n",
      "Accuracy for k = 11 for train data on Validation dataset is -  80.04147597254004\n",
      "\n",
      "Accuracy for k = 13 for train data on Validation dataset is -  80.38472540045767\n",
      "\n",
      "Accuracy for k = 15 for train data on Validation dataset is -  80.57780320366132\n",
      "\n",
      "Accuracy for k = 17 for train data on Validation dataset is -  80.89244851258582\n",
      "\n",
      "Accuracy for k = 19 for train data on Validation dataset is -  81.1212814645309\n",
      "\n",
      "Accuracy for k = 21 for train data on Validation dataset is -  81.2070938215103\n",
      "\n",
      "Accuracy for k = 23 for train data on Validation dataset is -  81.3358123569794\n",
      "\n",
      "Accuracy for k = 25 for train data on Validation dataset is -  81.46453089244852\n",
      "\n",
      "Accuracy for k = 27 for train data on Validation dataset is -  81.53604118993135\n",
      "\n",
      "Accuracy for k = 29 for train data on Validation dataset is -  81.62185354691076\n"
     ]
    }
   ],
   "source": [
    "#Applying KNN\n",
    "cv_scores=[]\n",
    "for i in range(1,31,2):\n",
    "    knn_model=KNeighborsClassifier(n_neighbors=i,algorithm='kd_tree')#creating model template\n",
    "    \n",
    "    #fit model for validation\n",
    "    knn_model.fit(fin_train_tsvd,train_y)\n",
    "    \n",
    "    #Now, predict using validation data\n",
    "    pred=knn_model.predict(fin_valid_tsvd)\n",
    "    acc = accuracy_score(valid_y, pred, normalize=True) * float(100)\n",
    "    print('\\nAccuracy for k = %d for train data on Validation dataset is - '%(i),acc)\n",
    "    cv_scores.append(acc)"
   ]
  },
  {
   "cell_type": "code",
   "execution_count": 15,
   "metadata": {
    "scrolled": true
   },
   "outputs": [
    {
     "name": "stdout",
     "output_type": "stream",
     "text": [
      "\n",
      "The optimal number of neighbors is 29.\n"
     ]
    },
    {
     "data": {
      "image/png": "[encoded data removed]",
      "text/plain": [
       "<Figure size 432x288 with 1 Axes>"
      ]
     },
     "metadata": {},
     "output_type": "display_data"
    },
    {
     "name": "stdout",
     "output_type": "stream",
     "text": [
      "the misclassification error for each k value is :  [-70.904 -75.266 -76.989 -78.083 -78.534 -79.041 -79.385 -79.578 -79.892\n",
      " -80.121 -80.207 -80.336 -80.465 -80.536 -80.622]\n"
     ]
    }
   ],
   "source": [
    "myList = list(range(0,30))\n",
    "neighbors = list(filter(lambda x: x % 2 != 0, myList))\n",
    "\n",
    "\n",
    "# changing to misclassification error\n",
    "MSE = [1 - x for x in cv_scores]\n",
    "\n",
    "# determining best k\n",
    "optimal_k = neighbors[MSE.index(min(MSE))]\n",
    "print('\\nThe optimal number of neighbors is %d.' % optimal_k)\n",
    "\n",
    "# plot misclassification error vs k \n",
    "plt.plot(neighbors, MSE)\n",
    "\n",
    "for xy in zip(neighbors, np.round(MSE,3)):\n",
    "    plt.annotate('(%s, %s)' % xy, xy=xy, textcoords='data')\n",
    "\n",
    "plt.xlabel('Number of Neighbors K')\n",
    "plt.ylabel('Misclassification Error')\n",
    "plt.show()\n",
    "\n",
    "print(\"the misclassification error for each k value is : \", np.round(MSE,3))"
   ]
  },
  {
   "cell_type": "code",
   "execution_count": 16,
   "metadata": {
    "scrolled": true
   },
   "outputs": [],
   "source": [
    "# So from above executions we can consider k=29 as optimal value\n",
    "\n",
    "#now we will apply our test dataset on our fit.\n",
    "\n",
    "knn_model=KNeighborsClassifier(n_neighbors=29,algorithm='kd_tree')\n",
    "knn_model.fit(fin_train_tsvd,train_y)\n",
    "\n",
    "pred=knn_model.predict(fin_test_tsvd)\n",
    "\n"
   ]
  },
  {
   "cell_type": "code",
   "execution_count": 17,
   "metadata": {
    "scrolled": true
   },
   "outputs": [
    {
     "name": "stdout",
     "output_type": "stream",
     "text": [
      "#################################################################################################\n",
      "## Final output after applying KNN with algorithm type = \"KD-TREE\"\n",
      "\n",
      "Confusion matrix for test data is : [9506, 130, 1964, 54]\n",
      "\n",
      "\n",
      " precision :  [0.29347826 0.82877071]\n",
      "\n",
      " Recall :  [0.02675917 0.98650892]\n",
      "\n",
      " TPR value is :  0.9732408325074331\n",
      "\n",
      " FPR value is : 0.9865089248650892\n",
      "\n",
      " true prob value : 0.828771 and False prob value : 0.293478\n",
      "\n",
      " F1 Score of test data with k= 29 is  :  0.9007865062067658\n",
      "\n",
      " Accuracy of test data with k= 29 is  :  0.9007865062067658\n",
      "#################################################################################################\n"
     ]
    }
   ],
   "source": [
    "# Now we will calculate confusion matrix, precission, recall, tpr,fpr here \n",
    "# using our test prediction with respect to actual values.\n",
    "print('#################################################################################################')\n",
    "\n",
    "print('## Final output after applying KNN with algorithm type = \"KD-TREE\"')\n",
    "tn, fp, fn, tp=confusion_matrix(test_y,pred).ravel()\n",
    "\n",
    "print('\\nConfusion matrix for test data is : [%d, %d, %d, %d]\\n'%(tp,fn,fp,tn))\n",
    "\n",
    "prec=precision_recall_fscore_support(test_y,pred)\n",
    "\n",
    "print('\\n precision : ',prec[0])\n",
    "print('\\n Recall : ',prec[1])\n",
    "\n",
    "prs=roc_curve(test_y,pred)\n",
    "\n",
    "print('\\n TPR value is : ',prs[0][1])\n",
    "print('\\n FPR value is :',prs[1][1])\n",
    "\n",
    "ppv=tp/(tp+fp)\n",
    "npv=tn/(tn+fn)\n",
    "\n",
    "print('\\n true prob value : %f and False prob value : %f'%(ppv,npv))\n",
    "\n",
    "f1=f1_score(test_y,pred)\n",
    "\n",
    "print('\\n F1 Score of test data with k= 29 is  : ',f1)\n",
    "\n",
    "acc=accuracy_score(test_y,pred,normalize=True) * float(100)\n",
    "\n",
    "print('\\n Accuracy of test data with k= 29 is  : ',f1)\n",
    "\n",
    "\n",
    "print('#################################################################################################')"
   ]
  },
  {
   "cell_type": "code",
   "execution_count": 19,
   "metadata": {
    "scrolled": true
   },
   "outputs": [],
   "source": [
    "# Function for plotting Confusion Matrix\n",
    "# Using this snipped of code copied from kaggle\n",
    "import numpy as np\n",
    "\n",
    "\n",
    "def plot_confusion_matrix(cm,\n",
    "                          target_names,\n",
    "                          title='Confusion matrix',\n",
    "                          cmap=None,\n",
    "                          normalize=True):\n",
    "\n",
    "    import matplotlib.pyplot as plt\n",
    "    import numpy as np\n",
    "    import itertools\n",
    "\n",
    "    accuracy = np.trace(cm) / float(np.sum(cm))\n",
    "    misclass = 1 - accuracy\n",
    "\n",
    "    if cmap is None:\n",
    "        cmap = plt.get_cmap('Blues')\n",
    "\n",
    "    plt.figure(figsize=(8, 6))\n",
    "    plt.imshow(cm, interpolation='nearest', cmap=cmap)\n",
    "    plt.title(title)\n",
    "    plt.colorbar()\n",
    "\n",
    "    if target_names is not None:\n",
    "        tick_marks = np.arange(len(target_names))\n",
    "        plt.xticks(tick_marks, target_names, rotation=45)\n",
    "        plt.yticks(tick_marks, target_names)\n",
    "\n",
    "    if normalize:\n",
    "        cm = cm.astype('float') / cm.sum(axis=1)[:, np.newaxis]\n",
    "\n",
    "\n",
    "    thresh = cm.max() / 1.5 if normalize else cm.max() / 2\n",
    "    for i, j in itertools.product(range(cm.shape[0]), range(cm.shape[1])):\n",
    "        if normalize:\n",
    "            plt.text(j, i, \"{:0.4f}\".format(cm[i, j]),\n",
    "                     horizontalalignment=\"center\",\n",
    "                     color=\"white\" if cm[i, j] > thresh else \"black\")\n",
    "        else:\n",
    "            plt.text(j, i, \"{:,}\".format(cm[i, j]),\n",
    "                     horizontalalignment=\"center\",\n",
    "                     color=\"white\" if cm[i, j] > thresh else \"black\")\n",
    "\n",
    "\n",
    "    plt.tight_layout()\n",
    "    plt.ylabel('True label')\n",
    "    plt.xlabel('Predicted label\\naccuracy={:0.4f}; misclass={:0.4f}'.format(accuracy, misclass))\n",
    "    plt.show()"
   ]
  },
  {
   "cell_type": "code",
   "execution_count": 19,
   "metadata": {
    "scrolled": true
   },
   "outputs": [
    {
     "data": {
      "image/png": "[encoded data removed]",
      "text/plain": [
       "<Figure size 576x432 with 2 Axes>"
      ]
     },
     "metadata": {},
     "output_type": "display_data"
    }
   ],
   "source": [
    "Conf_matrix=confusion_matrix(test_y, pred)\n",
    "plot_confusion_matrix(cm           = Conf_matrix, \n",
    "                      normalize    = False,\n",
    "                      target_names = ['Negative', 'Positive'],\n",
    "                      title        = \"Confusion Matrix\")"
   ]
  },
  {
   "cell_type": "code",
   "execution_count": 20,
   "metadata": {
    "scrolled": true
   },
   "outputs": [
    {
     "name": "stdout",
     "output_type": "stream",
     "text": [
      "[[  54 1964]\n",
      " [ 130 9506]]\n"
     ]
    },
    {
     "data": {
      "text/html": [
       "<div>\n",
       "<style scoped>\n",
       "    .dataframe tbody tr th:only-of-type {\n",
       "        vertical-align: middle;\n",
       "    }\n",
       "\n",
       "    .dataframe tbody tr th {\n",
       "        vertical-align: top;\n",
       "    }\n",
       "\n",
       "    .dataframe thead th {\n",
       "        text-align: right;\n",
       "    }\n",
       "</style>\n",
       "<table border=\"1\" class=\"dataframe\">\n",
       "  <thead>\n",
       "    <tr style=\"text-align: right;\">\n",
       "      <th>Predicted</th>\n",
       "      <th>0</th>\n",
       "      <th>1</th>\n",
       "      <th>All</th>\n",
       "    </tr>\n",
       "    <tr>\n",
       "      <th>True</th>\n",
       "      <th></th>\n",
       "      <th></th>\n",
       "      <th></th>\n",
       "    </tr>\n",
       "  </thead>\n",
       "  <tbody>\n",
       "    <tr>\n",
       "      <th>0</th>\n",
       "      <td>54</td>\n",
       "      <td>1964</td>\n",
       "      <td>2018</td>\n",
       "    </tr>\n",
       "    <tr>\n",
       "      <th>1</th>\n",
       "      <td>130</td>\n",
       "      <td>9506</td>\n",
       "      <td>9636</td>\n",
       "    </tr>\n",
       "    <tr>\n",
       "      <th>All</th>\n",
       "      <td>184</td>\n",
       "      <td>11470</td>\n",
       "      <td>11654</td>\n",
       "    </tr>\n",
       "  </tbody>\n",
       "</table>\n",
       "</div>"
      ],
      "text/plain": [
       "Predicted    0      1    All\n",
       "True                        \n",
       "0           54   1964   2018\n",
       "1          130   9506   9636\n",
       "All        184  11470  11654"
      ]
     },
     "execution_count": 20,
     "metadata": {},
     "output_type": "execute_result"
    },
    {
     "data": {
      "image/png": "[encoded data removed]",
      "text/plain": [
       "<Figure size 432x288 with 2 Axes>"
      ]
     },
     "metadata": {},
     "output_type": "display_data"
    }
   ],
   "source": [
    "print(Conf_matrix)\n",
    "import seaborn as sn\n",
    "cm=pd.DataFrame(Conf_matrix,index=['Positive','Negative'],columns=['Positive','Negative'])\n",
    "\n",
    "sn.heatmap(cm,annot=True,annot_kws={\"size\": 12})#font-size\n",
    "\n",
    "pd.crosstab(test_y, pred, rownames=['True'], colnames=['Predicted'], margins=True)"
   ]
  },
  {
   "cell_type": "code",
   "execution_count": 21,
   "metadata": {
    "scrolled": true
   },
   "outputs": [
    {
     "name": "stdout",
     "output_type": "stream",
     "text": [
      "             precision    recall  f1-score   support\n",
      "\n",
      "          0       0.29      0.03      0.05      2018\n",
      "          1       0.83      0.99      0.90      9636\n",
      "\n",
      "avg / total       0.74      0.82      0.75     11654\n",
      "\n"
     ]
    }
   ],
   "source": [
    "print(classification_report(test_y, pred))  "
   ]
  },
  {
   "cell_type": "markdown",
   "metadata": {},
   "source": [
    "# TFIDF with KNN"
   ]
  },
  {
   "cell_type": "code",
   "execution_count": 22,
   "metadata": {
    "scrolled": true
   },
   "outputs": [
    {
     "name": "stdout",
     "output_type": "stream",
     "text": [
      "the type of train count vectorizer  <class 'scipy.sparse.csr.csr_matrix'>\n",
      "the shape of train out text BOW vectorizer  (32630, 567305)\n",
      "the number of unique words in train data set   567305\n",
      "\n",
      "\n",
      "the type of valid count vectorizer  <class 'scipy.sparse.csr.csr_matrix'>\n",
      "the shape of validation out text BOW vectorizer  (13984, 567305)\n",
      "the number of unique words in validation dataset  567305\n",
      "\n",
      "\n",
      "the type of test count vectorizer  <class 'scipy.sparse.csr.csr_matrix'>\n",
      "the shape of test out text BOW vectorizer  (11654, 567305)\n",
      "the number of unique words in test dataset  567305\n"
     ]
    }
   ],
   "source": [
    "# Fitting a tfidf model and transforming our input data into that model on both test ad train datasets\n",
    "\n",
    "tf_model=TfidfVectorizer(ngram_range=(1,2))\n",
    "\n",
    "fin_train_counts=tf_model.fit_transform(train_x['CleanedText'].values)\n",
    "\n",
    "fin_valid_counts=tf_model.transform(valid_x['CleanedText'].values)\n",
    "\n",
    "fin_test_counts=tf_model.transform(fin_test['CleanedText'].values)\n",
    "\n",
    "print(\"the type of train count vectorizer \",type(fin_train_counts))\n",
    "print(\"the shape of train out text BOW vectorizer \",fin_train_counts.get_shape())\n",
    "print(\"the number of unique words in train data set  \", fin_train_counts.get_shape()[1])\n",
    "\n",
    "\n",
    "print(\"\\n\\nthe type of valid count vectorizer \",type(fin_valid_counts))\n",
    "print(\"the shape of validation out text BOW vectorizer \",fin_valid_counts.get_shape())\n",
    "print(\"the number of unique words in validation dataset \", fin_valid_counts.get_shape()[1])\n",
    "\n",
    "print(\"\\n\\nthe type of test count vectorizer \",type(fin_test_counts))\n",
    "print(\"the shape of test out text BOW vectorizer \",fin_test_counts.get_shape())\n",
    "print(\"the number of unique words in test dataset \", fin_test_counts.get_shape()[1])"
   ]
  },
  {
   "cell_type": "code",
   "execution_count": 23,
   "metadata": {
    "scrolled": true
   },
   "outputs": [
    {
     "name": "stdout",
     "output_type": "stream",
     "text": [
      "<class 'numpy.ndarray'>\n",
      "\n",
      " shape of trained and reduced final data is :  (32630, 50)\n",
      "<class 'numpy.ndarray'>\n",
      "\n",
      " shape of validation and reduced final data is :  (13984, 50)\n",
      "<class 'numpy.ndarray'>\n",
      "\n",
      " shape of trained and reduced final data is :  (11654, 50)\n"
     ]
    }
   ],
   "source": [
    "#Converting to lower dimensions here i am taking 50 dimensions using truncatedSVD\n",
    "\n",
    "tsvd_model=TruncatedSVD(n_components=50,n_iter=7,random_state=14)\n",
    "\n",
    "fin_train_tsvd=tsvd_model.fit_transform(fin_train_counts)\n",
    "\n",
    "print(type(fin_train_tsvd))\n",
    "print('\\n shape of trained and reduced final data is : ',fin_train_tsvd.shape)\n",
    "\n",
    "\n",
    "fin_valid_tsvd=tsvd_model.fit_transform(fin_valid_counts)\n",
    "\n",
    "print(type(fin_valid_tsvd))\n",
    "print('\\n shape of validation and reduced final data is : ',fin_valid_tsvd.shape)\n",
    "\n",
    "\n",
    "fin_test_tsvd=tsvd_model.fit_transform(fin_test_counts)\n",
    "\n",
    "print(type(fin_test_tsvd))\n",
    "print('\\n shape of trained and reduced final data is : ',fin_test_tsvd.shape)"
   ]
  },
  {
   "cell_type": "markdown",
   "metadata": {},
   "source": [
    "# Applying KNN on Tfidf\n"
   ]
  },
  {
   "cell_type": "code",
   "execution_count": 24,
   "metadata": {
    "scrolled": false
   },
   "outputs": [
    {
     "name": "stdout",
     "output_type": "stream",
     "text": [
      "\n",
      "Accuracy for k = 1 for train data on Validation dataset is -  74.24199084668193\n",
      "\n",
      "Accuracy for k = 3 for train data on Validation dataset is -  78.06064073226545\n",
      "\n",
      "Accuracy for k = 5 for train data on Validation dataset is -  79.38358123569795\n",
      "\n",
      "Accuracy for k = 7 for train data on Validation dataset is -  79.94851258581235\n",
      "\n",
      "Accuracy for k = 9 for train data on Validation dataset is -  80.4133295194508\n",
      "\n",
      "Accuracy for k = 11 for train data on Validation dataset is -  80.67076659038902\n",
      "\n",
      "Accuracy for k = 13 for train data on Validation dataset is -  80.97110983981693\n",
      "\n",
      "Accuracy for k = 15 for train data on Validation dataset is -  81.03546910755148\n",
      "\n",
      "Accuracy for k = 17 for train data on Validation dataset is -  80.99971395881008\n",
      "\n",
      "Accuracy for k = 19 for train data on Validation dataset is -  81.12843249427918\n",
      "\n",
      "Accuracy for k = 21 for train data on Validation dataset is -  81.25715102974829\n",
      "\n",
      "Accuracy for k = 23 for train data on Validation dataset is -  81.25715102974829\n",
      "\n",
      "Accuracy for k = 25 for train data on Validation dataset is -  81.2070938215103\n",
      "\n",
      "Accuracy for k = 27 for train data on Validation dataset is -  81.28575514874143\n",
      "\n",
      "Accuracy for k = 29 for train data on Validation dataset is -  81.30005720823799\n"
     ]
    }
   ],
   "source": [
    "#Applying KNN\n",
    "cv_scores=[]\n",
    "for i in range(1,31,2):\n",
    "    knn_model=KNeighborsClassifier(n_neighbors=i,algorithm='kd_tree')#creating model template\n",
    "    \n",
    "    #fit model for validation\n",
    "    knn_model.fit(fin_train_tsvd,train_y)\n",
    "    \n",
    "    #Now, predict using validation data\n",
    "    pred=knn_model.predict(fin_valid_tsvd)\n",
    "    acc = accuracy_score(valid_y, pred, normalize=True) * float(100)\n",
    "    print('\\nAccuracy for k = %d for train data on Validation dataset is - '%(i),acc)\n",
    "    cv_scores.append(acc)"
   ]
  },
  {
   "cell_type": "code",
   "execution_count": 25,
   "metadata": {
    "scrolled": true
   },
   "outputs": [
    {
     "name": "stdout",
     "output_type": "stream",
     "text": [
      "\n",
      "The optimal number of neighbors is 29.\n"
     ]
    },
    {
     "data": {
      "image/png": "[encoded data removed]",
      "text/plain": [
       "<Figure size 432x288 with 1 Axes>"
      ]
     },
     "metadata": {},
     "output_type": "display_data"
    },
    {
     "name": "stdout",
     "output_type": "stream",
     "text": [
      "the misclassification error for each k value is :  [-73.242 -77.061 -78.384 -78.949 -79.413 -79.671 -79.971 -80.035 -80.\n",
      " -80.128 -80.257 -80.257 -80.207 -80.286 -80.3  ]\n"
     ]
    }
   ],
   "source": [
    "myList = list(range(0,30))\n",
    "neighbors = list(filter(lambda x: x % 2 != 0, myList))\n",
    "\n",
    "\n",
    "# changing to misclassification error\n",
    "MSE = [1 - x for x in cv_scores]\n",
    "\n",
    "# determining best k\n",
    "optimal_k = neighbors[MSE.index(min(MSE))]\n",
    "print('\\nThe optimal number of neighbors is %d.' % optimal_k)\n",
    "\n",
    "# plot misclassification error vs k \n",
    "plt.plot(neighbors, MSE)\n",
    "\n",
    "for xy in zip(neighbors, np.round(MSE,3)):\n",
    "    plt.annotate('(%s, %s)' % xy, xy=xy, textcoords='data')\n",
    "\n",
    "plt.xlabel('Number of Neighbors K')\n",
    "plt.ylabel('Misclassification Error')\n",
    "plt.show()\n",
    "\n",
    "print(\"the misclassification error for each k value is : \", np.round(MSE,3))"
   ]
  },
  {
   "cell_type": "code",
   "execution_count": 26,
   "metadata": {
    "scrolled": true
   },
   "outputs": [],
   "source": [
    "# So frrom above executions we can consider k=29 as optimal value with F1-score as 81.3\n",
    "\n",
    "#now we will apply our test dataset on our fit.\n",
    "\n",
    "knn_model=KNeighborsClassifier(n_neighbors=29,algorithm='kd_tree')\n",
    "knn_model.fit(fin_train_tsvd,train_y)\n",
    "\n",
    "pred=knn_model.predict(fin_test_tsvd)\n",
    "\n"
   ]
  },
  {
   "cell_type": "code",
   "execution_count": 32,
   "metadata": {
    "scrolled": true
   },
   "outputs": [
    {
     "name": "stdout",
     "output_type": "stream",
     "text": [
      "#################################################################################################\n",
      "## Final output after applying KNN with algorithm type = \"KD-TREE\"\n",
      "\n",
      "Confusion matrix for test data is : [9549, 87, 1963, 55]\n",
      "\n",
      "\n",
      " precision :  [0.38732394 0.82948228]\n",
      "\n",
      " Recall :  [0.02725471 0.99097136]\n",
      "\n",
      " TPR value is :  0.9727452923686819\n",
      "\n",
      " FPR value is : 0.9909713574097135\n",
      "\n",
      " true prob value : 0.829482 and False prob value : 0.387324\n",
      "\n",
      " F1 Score of test data with k= 29 is  :  0.9030641195384908\n",
      "\n",
      " Accuracy of test data with k= 29 is  :  0.9030641195384908\n",
      "#################################################################################################\n"
     ]
    }
   ],
   "source": [
    "# Now we will calculate confusion matrix, precission, recall, tpr,fpr here \n",
    "# using our test prediction with respect to actual values.\n",
    "print('#################################################################################################')\n",
    "\n",
    "print('## Final output after applying KNN with algorithm type = \"KD-TREE\"')\n",
    "tn, fp, fn, tp=confusion_matrix(test_y,pred).ravel()\n",
    "\n",
    "print('\\nConfusion matrix for test data is : [%d, %d, %d, %d]\\n'%(tp,fn,fp,tn))\n",
    "\n",
    "prec=precision_recall_fscore_support(test_y,pred)\n",
    "\n",
    "print('\\n precision : ',prec[0])\n",
    "print('\\n Recall : ',prec[1])\n",
    "\n",
    "prs=roc_curve(test_y,pred)\n",
    "\n",
    "print('\\n TPR value is : ',prs[0][1])\n",
    "print('\\n FPR value is :',prs[1][1])\n",
    "\n",
    "ppv=tp/(tp+fp)\n",
    "npv=tn/(tn+fn)\n",
    "\n",
    "print('\\n true prob value : %f and False prob value : %f'%(ppv,npv))\n",
    "\n",
    "f1=f1_score(test_y,pred)\n",
    "\n",
    "print('\\n F1 Score of test data with k= 29 is  : ',f1)\n",
    "\n",
    "acc=accuracy_score(test_y,pred,normalize=True) * float(100)\n",
    "\n",
    "print('\\n Accuracy of test data with k= 29 is  : ',f1)\n",
    "\n",
    "print('#################################################################################################')"
   ]
  },
  {
   "cell_type": "code",
   "execution_count": 28,
   "metadata": {
    "scrolled": true
   },
   "outputs": [
    {
     "data": {
      "image/png": "[encoded data removed]",
      "text/plain": [
       "<Figure size 576x432 with 2 Axes>"
      ]
     },
     "metadata": {},
     "output_type": "display_data"
    }
   ],
   "source": [
    "Conf_matrix=confusion_matrix(test_y, pred)\n",
    "plot_confusion_matrix(cm           = Conf_matrix, \n",
    "                      normalize    = False,\n",
    "                      target_names = ['Negative', 'Positive'],\n",
    "                      title        = \"Confusion Matrix\")"
   ]
  },
  {
   "cell_type": "code",
   "execution_count": 29,
   "metadata": {
    "scrolled": true
   },
   "outputs": [
    {
     "name": "stdout",
     "output_type": "stream",
     "text": [
      "[[  55 1963]\n",
      " [  87 9549]]\n"
     ]
    },
    {
     "data": {
      "text/html": [
       "<div>\n",
       "<style scoped>\n",
       "    .dataframe tbody tr th:only-of-type {\n",
       "        vertical-align: middle;\n",
       "    }\n",
       "\n",
       "    .dataframe tbody tr th {\n",
       "        vertical-align: top;\n",
       "    }\n",
       "\n",
       "    .dataframe thead th {\n",
       "        text-align: right;\n",
       "    }\n",
       "</style>\n",
       "<table border=\"1\" class=\"dataframe\">\n",
       "  <thead>\n",
       "    <tr style=\"text-align: right;\">\n",
       "      <th>Predicted</th>\n",
       "      <th>0</th>\n",
       "      <th>1</th>\n",
       "      <th>All</th>\n",
       "    </tr>\n",
       "    <tr>\n",
       "      <th>True</th>\n",
       "      <th></th>\n",
       "      <th></th>\n",
       "      <th></th>\n",
       "    </tr>\n",
       "  </thead>\n",
       "  <tbody>\n",
       "    <tr>\n",
       "      <th>0</th>\n",
       "      <td>55</td>\n",
       "      <td>1963</td>\n",
       "      <td>2018</td>\n",
       "    </tr>\n",
       "    <tr>\n",
       "      <th>1</th>\n",
       "      <td>87</td>\n",
       "      <td>9549</td>\n",
       "      <td>9636</td>\n",
       "    </tr>\n",
       "    <tr>\n",
       "      <th>All</th>\n",
       "      <td>142</td>\n",
       "      <td>11512</td>\n",
       "      <td>11654</td>\n",
       "    </tr>\n",
       "  </tbody>\n",
       "</table>\n",
       "</div>"
      ],
      "text/plain": [
       "Predicted    0      1    All\n",
       "True                        \n",
       "0           55   1963   2018\n",
       "1           87   9549   9636\n",
       "All        142  11512  11654"
      ]
     },
     "execution_count": 29,
     "metadata": {},
     "output_type": "execute_result"
    },
    {
     "data": {
      "image/png": "[encoded data removed]",
      "text/plain": [
       "<Figure size 432x288 with 2 Axes>"
      ]
     },
     "metadata": {},
     "output_type": "display_data"
    }
   ],
   "source": [
    "print(Conf_matrix)\n",
    "import seaborn as sn\n",
    "cm=pd.DataFrame(Conf_matrix,index=['Positive','Negative'],columns=['Positive','Negative'])\n",
    "\n",
    "sn.heatmap(cm,annot=True,annot_kws={\"size\": 12})#font-size\n",
    "\n",
    "pd.crosstab(test_y, pred, rownames=['True'], colnames=['Predicted'], margins=True)"
   ]
  },
  {
   "cell_type": "code",
   "execution_count": 30,
   "metadata": {
    "scrolled": true
   },
   "outputs": [
    {
     "name": "stdout",
     "output_type": "stream",
     "text": [
      "             precision    recall  f1-score   support\n",
      "\n",
      "          0       0.39      0.03      0.05      2018\n",
      "          1       0.83      0.99      0.90      9636\n",
      "\n",
      "avg / total       0.75      0.82      0.76     11654\n",
      "\n"
     ]
    }
   ],
   "source": [
    "print(classification_report(test_y, pred))  "
   ]
  },
  {
   "cell_type": "markdown",
   "metadata": {},
   "source": [
    "# Avg W2v with KNN"
   ]
  },
  {
   "cell_type": "code",
   "execution_count": 9,
   "metadata": {
    "scrolled": true
   },
   "outputs": [
    {
     "name": "stdout",
     "output_type": "stream",
     "text": [
      "rememb see show air televis year ago child sister later bought day thirti someth use seri book song student teach preschool turn whole school purchas along book children tradit live\n",
      "*****************************************************************\n",
      "['rememb', 'see', 'show', 'air', 'televis', 'year', 'ago', 'child', 'sister', 'later', 'bought', 'day', 'thirti', 'someth', 'use', 'seri', 'book', 'song', 'student', 'teach', 'preschool', 'turn', 'whole', 'school', 'purchas', 'along', 'book', 'children', 'tradit', 'live']\n",
      "review describ content pineappl pack well pineappl chunk most stick togeth sugar content color piec rang fade yellow beig caramel brown flatter fresh pineappl chunk absolut delici kind food eat one chunk time clump togeth almost like put wad mouth chew awesom activ outdoor excel sourc quick energi pack bought expir date year guarante youll happi product buy pineappl product may see altern item amazon terribl\n",
      "*****************************************************************\n",
      "['review', 'describ', 'content', 'pineappl', 'pack', 'well', 'pineappl', 'chunk', 'most', 'stick', 'togeth', 'sugar', 'content', 'color', 'piec', 'rang', 'fade', 'yellow', 'beig', 'caramel', 'brown', 'flatter', 'fresh', 'pineappl', 'chunk', 'absolut', 'delici', 'kind', 'food', 'eat', 'one', 'chunk', 'time', 'clump', 'togeth', 'almost', 'like', 'put', 'wad', 'mouth', 'chew', 'awesom', 'activ', 'outdoor', 'excel', 'sourc', 'quick', 'energi', 'pack', 'bought', 'expir', 'date', 'year', 'guarante', 'youll', 'happi', 'product', 'buy', 'pineappl', 'product', 'may', 'see', 'altern', 'item', 'amazon', 'terribl']\n",
      "tri coupl differ type brand spectacular good swp stuff great drink decaf without worri safe chemic use regular decaf tast\n",
      "*****************************************************************\n",
      "['tri', 'coupl', 'differ', 'type', 'brand', 'spectacular', 'good', 'swp', 'stuff', 'great', 'drink', 'decaf', 'without', 'worri', 'safe', 'chemic', 'use', 'regular', 'decaf', 'tast']\n",
      "\n",
      " number of words that occured minimum 5 times in train data:  7844\n",
      "sample words  ['rememb', 'see', 'show', 'air', 'televis', 'year', 'ago', 'child', 'sister', 'later', 'bought', 'day', 'thirti', 'someth', 'use', 'seri', 'book', 'song', 'student', 'teach', 'preschool', 'turn', 'whole', 'school', 'purchas', 'along', 'children', 'tradit', 'live', 'beetlejuic', 'excel', 'funni', 'movi', 'keaton', 'hilari', 'great', 'special', 'effect', 'help', 'film', 'think', 'one', 'best', 'ever', 'made', 'sure', 'youll', 'agre', 'good', 'time']\n",
      "\n",
      "number of words that occured minimum 5 times in cv data :  5340\n",
      "\n",
      "sample words  ['review', 'describ', 'content', 'pineappl', 'pack', 'well', 'chunk', 'most', 'stick', 'togeth', 'sugar', 'color', 'piec', 'rang', 'fade', 'yellow', 'caramel', 'brown', 'fresh', 'absolut', 'delici', 'kind', 'food', 'eat', 'one', 'time', 'clump', 'almost', 'like', 'put', 'mouth', 'chew', 'awesom', 'activ', 'outdoor', 'excel', 'sourc', 'quick', 'energi', 'bought', 'expir', 'date', 'year', 'guarante', 'youll', 'happi', 'product', 'buy', 'may', 'see']\n",
      "\n",
      "number of words that occured minimum 5 times in test data :   4821\n",
      "\n",
      "sample words  ['tri', 'coupl', 'differ', 'type', 'brand', 'spectacular', 'good', 'stuff', 'great', 'drink', 'decaf', 'without', 'worri', 'safe', 'chemic', 'use', 'regular', 'tast', 'stevia', 'natur', 'sweeten', 'plant', 'root', 'truvia', 'big', 'granul', 'nice', 'know', 'made', 'petroleum', 'product', 'chlorin', 'sugar', 'etc', 'coffe', 'tea', 'well', 'mix', 'unflavor', 'yogurt', 'help', 'slight', 'alway', 'save', 'packet', 'store', 'box', 'compar', 'price', 'time']\n"
     ]
    }
   ],
   "source": [
    "list_of_sent_train=[]\n",
    "for sent in train_x['CleanedText'].values:  #Splitting each sentence into set of individual words\n",
    "    list_of_sent_train.append(sent.split())\n",
    "    \n",
    "print(train_x['CleanedText'].values[0])\n",
    "print(\"*****************************************************************\")\n",
    "print(list_of_sent_train[0])\n",
    "\n",
    "#Applying Same logic on cv data\n",
    "\n",
    "list_of_sent_cv=[]\n",
    "for sent in valid_x['CleanedText'].values:  #Splitting each sentence into set of individual words\n",
    "    list_of_sent_cv.append(sent.split())\n",
    "    \n",
    "print(valid_x['CleanedText'].values[0])\n",
    "print(\"*****************************************************************\")\n",
    "print(list_of_sent_cv[0])\n",
    "\n",
    "\n",
    "# Applying same logic on test data\n",
    "\n",
    "list_of_sent_test=[]\n",
    "for sent in fin_test['CleanedText'].values:  #Splitting each sentence into set of individual words\n",
    "    list_of_sent_test.append(sent.split())\n",
    "    \n",
    "print(fin_test['CleanedText'].values[0])\n",
    "print(\"*****************************************************************\")\n",
    "print(list_of_sent_test[0])\n",
    "\n",
    "\n",
    "# min_count = 5 considers only words that occured atleast 5 times\n",
    "w2v_model_train=Word2Vec(list_of_sent_train,min_count=5,size=50, workers=4)\n",
    "\n",
    "# min_count = 5 considers only words that occured atleast 5 times\n",
    "w2v_model_cv=Word2Vec(list_of_sent_cv,min_count=5,size=50, workers=4)\n",
    "\n",
    "# min_count = 5 considers only words that occured atleast 5 times\n",
    "w2v_model_test=Word2Vec(list_of_sent_test,min_count=5,size=50, workers=4)\n",
    "\n",
    "\n",
    "#Applying models on datasets( Train,CV,Test )\n",
    "\n",
    "w2v_words_train = list(w2v_model_train.wv.vocab)\n",
    "print(\"\\n number of words that occured minimum 5 times in train data: \",len(w2v_words_train))\n",
    "print(\"sample words \", w2v_words_train[0:50])\n",
    "\n",
    "\n",
    "\n",
    "w2v_words_cv = list(w2v_model_cv.wv.vocab)\n",
    "print(\"\\nnumber of words that occured minimum 5 times in cv data : \",len(w2v_words_cv))\n",
    "print(\"\\nsample words \", w2v_words_cv[0:50])\n",
    "\n",
    "\n",
    "w2v_words_test = list(w2v_model_test.wv.vocab)\n",
    "print(\"\\nnumber of words that occured minimum 5 times in test data :  \",len(w2v_words_test))\n",
    "print(\"\\nsample words \", w2v_words_test[0:50])"
   ]
  },
  {
   "cell_type": "code",
   "execution_count": 10,
   "metadata": {
    "scrolled": true
   },
   "outputs": [
    {
     "name": "stderr",
     "output_type": "stream",
     "text": [
      "100%|███████████████████████████████████| 32630/32630 [01:38<00:00, 332.89it/s]\n"
     ]
    },
    {
     "name": "stdout",
     "output_type": "stream",
     "text": [
      "32630\n",
      "50\n"
     ]
    }
   ],
   "source": [
    "#Calculating AvgW2v\n",
    "\n",
    "# average Word2Vec\n",
    "# compute average word2vec for each review.\n",
    "sent_vectors_train = []; # the avg-w2v for each sentence/review is stored in this list\n",
    "for sent in tqdm(list_of_sent_train): # for each review/sentence\n",
    "    sent_vec = np.zeros(50) # as word vectors are of zero length\n",
    "    cnt_words =0; # num of words with a valid vector in the sentence/review\n",
    "    for word in sent: # for each word in a review/sentence\n",
    "        if word in w2v_words_train:\n",
    "            vec = w2v_model_train.wv[word]\n",
    "            sent_vec += vec\n",
    "            cnt_words += 1\n",
    "    if cnt_words != 0:\n",
    "        sent_vec /= cnt_words\n",
    "    sent_vectors_train.append(sent_vec)\n",
    "print(len(sent_vectors_train))\n",
    "print(len(sent_vectors_train[0]))"
   ]
  },
  {
   "cell_type": "code",
   "execution_count": 11,
   "metadata": {
    "scrolled": true
   },
   "outputs": [
    {
     "name": "stderr",
     "output_type": "stream",
     "text": [
      "100%|███████████████████████████████████| 13984/13984 [00:43<00:00, 323.88it/s]\n"
     ]
    },
    {
     "name": "stdout",
     "output_type": "stream",
     "text": [
      "13984\n",
      "50\n"
     ]
    }
   ],
   "source": [
    "# average Word2Vec\n",
    "# compute average word2vec for each review.\n",
    "sent_vectors_cv = []; # the avg-w2v for each sentence/review is stored in this list\n",
    "for sent in tqdm(list_of_sent_cv): # for each review/sentence\n",
    "    sent_vec = np.zeros(50) # as word vectors are of zero length\n",
    "    cnt_words =0; # num of words with a valid vector in the sentence/review\n",
    "    for word in sent: # for each word in a review/sentence\n",
    "        if word in w2v_words_train:\n",
    "            vec = w2v_model_train.wv[word]\n",
    "            sent_vec += vec\n",
    "            cnt_words += 1\n",
    "    if cnt_words != 0:\n",
    "        sent_vec /= cnt_words\n",
    "    sent_vectors_cv.append(sent_vec)\n",
    "print(len(sent_vectors_cv))\n",
    "print(len(sent_vectors_cv[0]))"
   ]
  },
  {
   "cell_type": "code",
   "execution_count": 12,
   "metadata": {
    "scrolled": true
   },
   "outputs": [
    {
     "name": "stderr",
     "output_type": "stream",
     "text": [
      "100%|███████████████████████████████████| 11654/11654 [00:35<00:00, 332.70it/s]\n"
     ]
    },
    {
     "name": "stdout",
     "output_type": "stream",
     "text": [
      "11654\n",
      "50\n"
     ]
    }
   ],
   "source": [
    "# average Word2Vec\n",
    "# compute average word2vec for each review.\n",
    "sent_vectors_test = []; # the avg-w2v for each sentence/review is stored in this list\n",
    "for sent in tqdm(list_of_sent_test): # for each review/sentence\n",
    "    sent_vec = np.zeros(50) # as word vectors are of zero length\n",
    "    cnt_words =0; # num of words with a valid vector in the sentence/review\n",
    "    for word in sent: # for each word in a review/sentence\n",
    "        if word in w2v_words_train:\n",
    "            vec = w2v_model_train.wv[word]\n",
    "            sent_vec += vec\n",
    "            cnt_words += 1\n",
    "    if cnt_words != 0:\n",
    "        sent_vec /= cnt_words\n",
    "    sent_vectors_test.append(sent_vec)\n",
    "print(len(sent_vectors_test))\n",
    "print(len(sent_vectors_test[0]))"
   ]
  },
  {
   "cell_type": "markdown",
   "metadata": {},
   "source": [
    "# Applying KNN on AvgW2V "
   ]
  },
  {
   "cell_type": "code",
   "execution_count": 14,
   "metadata": {
    "scrolled": true
   },
   "outputs": [
    {
     "name": "stdout",
     "output_type": "stream",
     "text": [
      "\n",
      "Accuracy for k = 1 for train data on Validation dataset is -  81.32866132723112\n",
      "\n",
      "Accuracy for k = 3 for train data on Validation dataset is -  84.3320938215103\n",
      "\n",
      "Accuracy for k = 5 for train data on Validation dataset is -  85.01859267734554\n",
      "\n",
      "Accuracy for k = 7 for train data on Validation dataset is -  85.2545766590389\n",
      "\n",
      "Accuracy for k = 9 for train data on Validation dataset is -  85.26172768878718\n",
      "\n",
      "Accuracy for k = 11 for train data on Validation dataset is -  85.38329519450801\n",
      "\n",
      "Accuracy for k = 13 for train data on Validation dataset is -  85.45480549199085\n",
      "\n",
      "Accuracy for k = 15 for train data on Validation dataset is -  85.40474828375287\n",
      "\n",
      "Accuracy for k = 17 for train data on Validation dataset is -  85.38329519450801\n",
      "\n",
      "Accuracy for k = 19 for train data on Validation dataset is -  85.35469107551488\n",
      "\n",
      "Accuracy for k = 21 for train data on Validation dataset is -  85.22597254004577\n",
      "\n",
      "Accuracy for k = 23 for train data on Validation dataset is -  85.23312356979405\n",
      "\n",
      "Accuracy for k = 25 for train data on Validation dataset is -  85.10440503432494\n",
      "\n",
      "Accuracy for k = 27 for train data on Validation dataset is -  85.23312356979405\n",
      "\n",
      "Accuracy for k = 29 for train data on Validation dataset is -  85.0328947368421\n"
     ]
    }
   ],
   "source": [
    "#Applying KNN\n",
    "cv_scores=[]\n",
    "for i in range(1,30,2):\n",
    "    knn_model=KNeighborsClassifier(n_neighbors=i,algorithm='kd_tree')#creating model template\n",
    "    \n",
    "    #fit model for validation\n",
    "    knn_model.fit(sent_vectors_train,train_y)\n",
    "    \n",
    "    #Now, predict using validation data\n",
    "    pred=knn_model.predict(sent_vectors_cv)\n",
    "    acc = accuracy_score(valid_y, pred, normalize=True) * float(100)\n",
    "    print('\\nAccuracy for k = %d for train data on Validation dataset is - '%(i),acc)\n",
    "    cv_scores.append(acc)"
   ]
  },
  {
   "cell_type": "code",
   "execution_count": 15,
   "metadata": {},
   "outputs": [
    {
     "name": "stdout",
     "output_type": "stream",
     "text": [
      "\n",
      "The optimal number of neighbors is 13.\n"
     ]
    },
    {
     "data": {
      "image/png": "[encoded data removed]",
      "text/plain": [
       "<Figure size 432x288 with 1 Axes>"
      ]
     },
     "metadata": {},
     "output_type": "display_data"
    },
    {
     "name": "stdout",
     "output_type": "stream",
     "text": [
      "the misclassification error for each k value is :  [-80.329 -83.332 -84.019 -84.255 -84.262 -84.383 -84.455 -84.405 -84.383\n",
      " -84.355 -84.226 -84.233 -84.104 -84.233 -84.033]\n"
     ]
    }
   ],
   "source": [
    "myList = list(range(0,30))\n",
    "neighbors = list(filter(lambda x: x % 2 != 0, myList))\n",
    "\n",
    "\n",
    "# changing to misclassification error\n",
    "MSE = [1 - x for x in cv_scores]\n",
    "\n",
    "# determining best k\n",
    "optimal_k = neighbors[MSE.index(min(MSE))]\n",
    "print('\\nThe optimal number of neighbors is %d.' % optimal_k)\n",
    "\n",
    "# plot misclassification error vs k \n",
    "plt.plot(neighbors, MSE)\n",
    "\n",
    "for xy in zip(neighbors, np.round(MSE,3)):\n",
    "    plt.annotate('(%s, %s)' % xy, xy=xy, textcoords='data')\n",
    "\n",
    "plt.xlabel('Number of Neighbors K')\n",
    "plt.ylabel('Misclassification Error')\n",
    "plt.show()\n",
    "\n",
    "print(\"the misclassification error for each k value is : \", np.round(MSE,3))"
   ]
  },
  {
   "cell_type": "code",
   "execution_count": 16,
   "metadata": {
    "scrolled": true
   },
   "outputs": [],
   "source": [
    "# So frrom above executions we can consider k=13 as optimal value with F1-score as 91.18\n",
    "\n",
    "#now we will apply our test dataset on our fit.\n",
    "\n",
    "knn_model=KNeighborsClassifier(n_neighbors=13,algorithm='kd_tree')\n",
    "knn_model.fit(sent_vectors_train,train_y)\n",
    "\n",
    "pred=knn_model.predict(sent_vectors_test)"
   ]
  },
  {
   "cell_type": "code",
   "execution_count": 17,
   "metadata": {
    "scrolled": true
   },
   "outputs": [
    {
     "name": "stdout",
     "output_type": "stream",
     "text": [
      "#################################################################################################\n",
      "## Final output after applying KNN with algorithm type = \"KD-TREE\"\n",
      "Confusion matrix for test data is : [9431, 205, 1449, 569]\n",
      "\n",
      "\n",
      " precision :  [0.73514212 0.86681985]\n",
      "\n",
      " Recall :  [0.28196234 0.97872561]\n",
      "\n",
      " TPR value is :  0.7180376610505451\n",
      "\n",
      " FPR value is : 0.9787256122872561\n",
      "\n",
      " true prob value : 0.866820 and False prob value : 0.735142\n",
      "\n",
      " F1 Score of test data with k= 13 is  :  0.9193799961006043\n",
      "\n",
      " Accuracy of test data with k= 13 is  :  0.9193799961006043\n",
      "#################################################################################################\n"
     ]
    }
   ],
   "source": [
    "# Now we will calculate confusion matrix, precission, recall, tpr,fpr here \n",
    "# using our test prediction with respect to actual values.\n",
    "print('#################################################################################################')\n",
    "\n",
    "print('## Final output after applying KNN with algorithm type = \"KD-TREE\"')\n",
    "tn, fp, fn, tp=confusion_matrix(test_y,pred).ravel()\n",
    "\n",
    "print('Confusion matrix for test data is : [%d, %d, %d, %d]\\n'%(tp,fn,fp,tn))\n",
    "\n",
    "prec=precision_recall_fscore_support(test_y,pred)\n",
    "\n",
    "print('\\n precision : ',prec[0])\n",
    "print('\\n Recall : ',prec[1])\n",
    "\n",
    "prs=roc_curve(test_y,pred)\n",
    "\n",
    "print('\\n TPR value is : ',prs[0][1])\n",
    "print('\\n FPR value is :',prs[1][1])\n",
    "\n",
    "ppv=tp/(tp+fp)\n",
    "npv=tn/(tn+fn)\n",
    "\n",
    "print('\\n true prob value : %f and False prob value : %f'%(ppv,npv))\n",
    "\n",
    "f1=f1_score(test_y,pred)\n",
    "\n",
    "print('\\n F1 Score of test data with k= 13 is  : ',f1)\n",
    "\n",
    "acc=accuracy_score(test_y,pred,normalize=True) * float(100)\n",
    "\n",
    "print('\\n Accuracy of test data with k= 13 is  : ',f1)\n",
    "\n",
    "print('#################################################################################################')"
   ]
  },
  {
   "cell_type": "code",
   "execution_count": 20,
   "metadata": {},
   "outputs": [
    {
     "data": {
      "image/png": "[encoded data removed]",
      "text/plain": [
       "<Figure size 576x432 with 2 Axes>"
      ]
     },
     "metadata": {},
     "output_type": "display_data"
    }
   ],
   "source": [
    "Conf_matrix=confusion_matrix(test_y, pred)\n",
    "plot_confusion_matrix(cm           = Conf_matrix, \n",
    "                      normalize    = False,\n",
    "                      target_names = ['Negative', 'Positive'],\n",
    "                      title        = \"Confusion Matrix\")"
   ]
  },
  {
   "cell_type": "code",
   "execution_count": 21,
   "metadata": {},
   "outputs": [
    {
     "name": "stdout",
     "output_type": "stream",
     "text": [
      "[[ 569 1449]\n",
      " [ 205 9431]]\n"
     ]
    },
    {
     "data": {
      "text/html": [
       "<div>\n",
       "<style scoped>\n",
       "    .dataframe tbody tr th:only-of-type {\n",
       "        vertical-align: middle;\n",
       "    }\n",
       "\n",
       "    .dataframe tbody tr th {\n",
       "        vertical-align: top;\n",
       "    }\n",
       "\n",
       "    .dataframe thead th {\n",
       "        text-align: right;\n",
       "    }\n",
       "</style>\n",
       "<table border=\"1\" class=\"dataframe\">\n",
       "  <thead>\n",
       "    <tr style=\"text-align: right;\">\n",
       "      <th>Predicted</th>\n",
       "      <th>0</th>\n",
       "      <th>1</th>\n",
       "      <th>All</th>\n",
       "    </tr>\n",
       "    <tr>\n",
       "      <th>True</th>\n",
       "      <th></th>\n",
       "      <th></th>\n",
       "      <th></th>\n",
       "    </tr>\n",
       "  </thead>\n",
       "  <tbody>\n",
       "    <tr>\n",
       "      <th>0</th>\n",
       "      <td>569</td>\n",
       "      <td>1449</td>\n",
       "      <td>2018</td>\n",
       "    </tr>\n",
       "    <tr>\n",
       "      <th>1</th>\n",
       "      <td>205</td>\n",
       "      <td>9431</td>\n",
       "      <td>9636</td>\n",
       "    </tr>\n",
       "    <tr>\n",
       "      <th>All</th>\n",
       "      <td>774</td>\n",
       "      <td>10880</td>\n",
       "      <td>11654</td>\n",
       "    </tr>\n",
       "  </tbody>\n",
       "</table>\n",
       "</div>"
      ],
      "text/plain": [
       "Predicted    0      1    All\n",
       "True                        \n",
       "0          569   1449   2018\n",
       "1          205   9431   9636\n",
       "All        774  10880  11654"
      ]
     },
     "execution_count": 21,
     "metadata": {},
     "output_type": "execute_result"
    },
    {
     "data": {
      "image/png": "[encoded data removed]",
      "text/plain": [
       "<Figure size 432x288 with 2 Axes>"
      ]
     },
     "metadata": {},
     "output_type": "display_data"
    }
   ],
   "source": [
    "print(Conf_matrix)\n",
    "import seaborn as sn\n",
    "cm=pd.DataFrame(Conf_matrix,index=['Positive','Negative'],columns=['Positive','Negative'])\n",
    "\n",
    "sn.heatmap(cm,annot=True,annot_kws={\"size\": 12})#font-size\n",
    "\n",
    "pd.crosstab(test_y, pred, rownames=['True'], colnames=['Predicted'], margins=True)"
   ]
  },
  {
   "cell_type": "code",
   "execution_count": 22,
   "metadata": {},
   "outputs": [
    {
     "name": "stdout",
     "output_type": "stream",
     "text": [
      "             precision    recall  f1-score   support\n",
      "\n",
      "          0       0.74      0.28      0.41      2018\n",
      "          1       0.87      0.98      0.92      9636\n",
      "\n",
      "avg / total       0.84      0.86      0.83     11654\n",
      "\n"
     ]
    }
   ],
   "source": [
    "print(classification_report(test_y, pred))  "
   ]
  },
  {
   "cell_type": "markdown",
   "metadata": {},
   "source": [
    "# Tfidf weighted Avg W2v"
   ]
  },
  {
   "cell_type": "code",
   "execution_count": 24,
   "metadata": {
    "scrolled": true
   },
   "outputs": [],
   "source": [
    "# S = [\"abc def pqr\", \"def def def abc\", \"pqr pqr def\"]\n",
    "model_tr = TfidfVectorizer()\n",
    "tf_idf_train_matrix = model_tr.fit_transform(train_x['CleanedText'].values)\n",
    "# we are converting a dictionary with word as a key, and the idf as a value\n",
    "train_dictionary = dict(zip(model_tr.get_feature_names(), list(model_tr.idf_)))\n",
    "\n",
    "#Now create dictionary on validation data\n",
    "tf_idf_matrix = model_tr.transform(valid_x['CleanedText'].values)\n",
    "\n",
    "#Creating dictionary on test data\n",
    "tf_idf_matrix = model_tr.transform(fin_test['CleanedText'].values)\n"
   ]
  },
  {
   "cell_type": "code",
   "execution_count": 25,
   "metadata": {
    "scrolled": true
   },
   "outputs": [
    {
     "name": "stderr",
     "output_type": "stream",
     "text": [
      "100%|███████████████████████████████████| 32630/32630 [02:03<00:00, 264.80it/s]\n"
     ]
    }
   ],
   "source": [
    "# TF-IDF weighted Word2Vec\n",
    "#tfidf_feat = model_tr.get_feature_names() # tfidf words/col-names\n",
    "# final_tf_idf is the sparse matrix with row= sentence, col=word and cell_val = tfidf\n",
    "\n",
    "tfidf_sent_vectors_tr = []; # the tfidf-w2v for each sentence/review is stored in this list\n",
    "row=0;\n",
    "for sent in tqdm(list_of_sent_train): # for each review/sentence \n",
    "    sent_vec = np.zeros(50) # as word vectors are of zero length\n",
    "    weight_sum =0; # num of words with a valid vector in the sentence/review\n",
    "    for word in sent: # for each word in a review/sentence\n",
    "        if word in w2v_words_train:\n",
    "            vec = w2v_model_train.wv[word]\n",
    "#             tf_idf = tf_idf_matrix[row, tfidf_feat.index(word)]\n",
    "            # to reduce the computation we are \n",
    "            # dictionary[word] = idf value of word in whole courpus\n",
    "            # sent.count(word) = tf valeus of word in this review\n",
    "            tf_idf = train_dictionary[word]*(sent.count(word)/len(sent))\n",
    "            sent_vec += (vec * tf_idf)\n",
    "            weight_sum += tf_idf\n",
    "    if weight_sum != 0:\n",
    "        sent_vec /= weight_sum\n",
    "    tfidf_sent_vectors_tr.append(sent_vec)\n",
    "    row += 1"
   ]
  },
  {
   "cell_type": "code",
   "execution_count": 26,
   "metadata": {
    "scrolled": true
   },
   "outputs": [
    {
     "name": "stderr",
     "output_type": "stream",
     "text": [
      "100%|███████████████████████████████████| 13984/13984 [00:55<00:00, 253.39it/s]\n"
     ]
    }
   ],
   "source": [
    "tfidf_sent_vectors_val = []; # the tfidf-w2v for each sentence/review is stored in this list\n",
    "row=0;\n",
    "for sent in tqdm(list_of_sent_cv): # for each review/sentence \n",
    "    sent_vec = np.zeros(50) # as word vectors are of zero length\n",
    "    weight_sum =0; # num of words with a valid vector in the sentence/review\n",
    "    for word in sent: # for each word in a review/sentence\n",
    "        if word in w2v_words_train:\n",
    "            vec = w2v_model_train.wv[word]\n",
    "#             tf_idf = tf_idf_matrix[row, tfidf_feat.index(word)]\n",
    "            # to reduce the computation we are \n",
    "            # dictionary[word] = idf value of word in whole courpus\n",
    "            # sent.count(word) = tf valeus of word in this review\n",
    "            tf_idf = train_dictionary[word]*(sent.count(word)/len(sent))\n",
    "            sent_vec += (vec * tf_idf)\n",
    "            weight_sum += tf_idf\n",
    "    if weight_sum != 0:\n",
    "        sent_vec /= weight_sum\n",
    "    tfidf_sent_vectors_val.append(sent_vec)\n",
    "    row += 1"
   ]
  },
  {
   "cell_type": "code",
   "execution_count": 27,
   "metadata": {
    "scrolled": true
   },
   "outputs": [
    {
     "name": "stderr",
     "output_type": "stream",
     "text": [
      "100%|███████████████████████████████████| 11654/11654 [00:43<00:00, 265.00it/s]\n"
     ]
    }
   ],
   "source": [
    "tfidf_sent_vectors_test = []; # the tfidf-w2v for each sentence/review is stored in this list\n",
    "row=0;\n",
    "for sent in tqdm(list_of_sent_test): # for each review/sentence \n",
    "    sent_vec = np.zeros(50) # as word vectors are of zero length\n",
    "    weight_sum =0; # num of words with a valid vector in the sentence/review\n",
    "    for word in sent: # for each word in a review/sentence\n",
    "        if word in w2v_words_train:\n",
    "            vec = w2v_model_train.wv[word]\n",
    "#             tf_idf = tf_idf_matrix[row, tfidf_feat.index(word)]\n",
    "            # to reduce the computation we are \n",
    "            # dictionary[word] = idf value of word in whole courpus\n",
    "            # sent.count(word) = tf valeus of word in this review\n",
    "            tf_idf = train_dictionary[word]*(sent.count(word)/len(sent))\n",
    "            sent_vec += (vec * tf_idf)\n",
    "            weight_sum += tf_idf\n",
    "    if weight_sum != 0:\n",
    "        sent_vec /= weight_sum\n",
    "    tfidf_sent_vectors_test.append(sent_vec)\n",
    "    row += 1"
   ]
  },
  {
   "cell_type": "markdown",
   "metadata": {},
   "source": [
    "# Applying KNN on tfidf weighted w2v"
   ]
  },
  {
   "cell_type": "code",
   "execution_count": 28,
   "metadata": {
    "scrolled": true
   },
   "outputs": [
    {
     "name": "stdout",
     "output_type": "stream",
     "text": [
      "\n",
      "Accuracy for k = 1 for train data on Validation dataset is -  78.604118993135\n",
      "\n",
      "Accuracy for k = 3 for train data on Validation dataset is -  82.57294050343249\n",
      "\n",
      "Accuracy for k = 5 for train data on Validation dataset is -  83.4525171624714\n",
      "\n",
      "Accuracy for k = 7 for train data on Validation dataset is -  83.88872997711671\n",
      "\n",
      "Accuracy for k = 9 for train data on Validation dataset is -  84.05320366132723\n",
      "\n",
      "Accuracy for k = 11 for train data on Validation dataset is -  84.2891876430206\n",
      "\n",
      "Accuracy for k = 13 for train data on Validation dataset is -  84.36784897025171\n",
      "\n",
      "Accuracy for k = 15 for train data on Validation dataset is -  84.42505720823799\n",
      "\n",
      "Accuracy for k = 17 for train data on Validation dataset is -  84.36784897025171\n",
      "\n",
      "Accuracy for k = 19 for train data on Validation dataset is -  84.39645308924484\n",
      "\n",
      "Accuracy for k = 21 for train data on Validation dataset is -  84.51086956521739\n",
      "\n",
      "Accuracy for k = 23 for train data on Validation dataset is -  84.49656750572082\n",
      "\n",
      "Accuracy for k = 25 for train data on Validation dataset is -  84.39645308924484\n",
      "\n",
      "Accuracy for k = 27 for train data on Validation dataset is -  84.28203661327231\n",
      "\n",
      "Accuracy for k = 29 for train data on Validation dataset is -  84.23913043478261\n"
     ]
    }
   ],
   "source": [
    "#Applying KNN\n",
    "cv_scores=[]\n",
    "for i in range(1,30,2):\n",
    "    knn_model=KNeighborsClassifier(n_neighbors=i,algorithm='kd_tree')#creating model template\n",
    "    \n",
    "    #fit model for validation\n",
    "    knn_model.fit(tfidf_sent_vectors_tr,train_y)\n",
    "    \n",
    "    #Now, predict using validation data\n",
    "    pred=knn_model.predict(tfidf_sent_vectors_val)\n",
    "    acc = accuracy_score(valid_y, pred, normalize=True) * float(100)\n",
    "    print('\\nAccuracy for k = %d for train data on Validation dataset is - '%(i),acc)\n",
    "    cv_scores.append(acc)"
   ]
  },
  {
   "cell_type": "code",
   "execution_count": 29,
   "metadata": {},
   "outputs": [
    {
     "name": "stdout",
     "output_type": "stream",
     "text": [
      "\n",
      "The optimal number of neighbors is 21.\n"
     ]
    },
    {
     "data": {
      "image/png": "[encoded data removed]",
      "text/plain": [
       "<Figure size 432x288 with 1 Axes>"
      ]
     },
     "metadata": {},
     "output_type": "display_data"
    },
    {
     "name": "stdout",
     "output_type": "stream",
     "text": [
      "the misclassification error for each k value is :  [-77.604 -81.573 -82.453 -82.889 -83.053 -83.289 -83.368 -83.425 -83.368\n",
      " -83.396 -83.511 -83.497 -83.396 -83.282 -83.239]\n"
     ]
    }
   ],
   "source": [
    "myList = list(range(0,30))\n",
    "neighbors = list(filter(lambda x: x % 2 != 0, myList))\n",
    "\n",
    "\n",
    "# changing to misclassification error\n",
    "MSE = [1 - x for x in cv_scores]\n",
    "\n",
    "# determining best k\n",
    "optimal_k = neighbors[MSE.index(min(MSE))]\n",
    "print('\\nThe optimal number of neighbors is %d.' % optimal_k)\n",
    "\n",
    "# plot misclassification error vs k \n",
    "plt.plot(neighbors, MSE)\n",
    "\n",
    "for xy in zip(neighbors, np.round(MSE,3)):\n",
    "    plt.annotate('(%s, %s)' % xy, xy=xy, textcoords='data')\n",
    "\n",
    "plt.xlabel('Number of Neighbors K')\n",
    "plt.ylabel('Misclassification Error')\n",
    "plt.show()\n",
    "\n",
    "print(\"the misclassification error for each k value is : \", np.round(MSE,3))"
   ]
  },
  {
   "cell_type": "code",
   "execution_count": 30,
   "metadata": {
    "scrolled": true
   },
   "outputs": [],
   "source": [
    "# So frrom above executions we can consider k=21 as optimal value with F1-score as 84.51\n",
    "\n",
    "#now we will apply our test dataset on our fit.\n",
    "\n",
    "knn_model=KNeighborsClassifier(n_neighbors=21,algorithm='kd_tree')\n",
    "knn_model.fit(tfidf_sent_vectors_tr,train_y)\n",
    "\n",
    "pred=knn_model.predict(tfidf_sent_vectors_test)"
   ]
  },
  {
   "cell_type": "code",
   "execution_count": 32,
   "metadata": {
    "scrolled": true
   },
   "outputs": [
    {
     "name": "stdout",
     "output_type": "stream",
     "text": [
      "#################################################################################################\n",
      "## Final output after applying KNN with algorithm type = \"KD-TREE\"\n",
      "Confusion matrix for test data is : [9484, 152, 1609, 409]\n",
      "\n",
      "\n",
      " precision :  [0.72905526 0.85495357]\n",
      "\n",
      " Recall :  [0.20267592 0.98422582]\n",
      "\n",
      " TPR value is :  0.7973240832507433\n",
      "\n",
      " FPR value is : 0.9842258198422582\n",
      "\n",
      " true prob value : 0.854954 and False prob value : 0.729055\n",
      "\n",
      " F1 Score of test data with k= 21 is  :  0.9150465531381157\n",
      "\n",
      " Accuracy of test data with k= 21 is  :  0.9150465531381157\n",
      "#################################################################################################\n"
     ]
    }
   ],
   "source": [
    "# Now we will calculate confusion matrix, precission, recall, tpr,fpr here \n",
    "# using our test prediction with respect to actual values.\n",
    "print('#################################################################################################')\n",
    "\n",
    "print('## Final output after applying KNN with algorithm type = \"KD-TREE\"')\n",
    "tn, fp, fn, tp=confusion_matrix(test_y,pred).ravel()\n",
    "\n",
    "print('Confusion matrix for test data is : [%d, %d, %d, %d]\\n'%(tp,fn,fp,tn))\n",
    "\n",
    "prec=precision_recall_fscore_support(test_y,pred)\n",
    "\n",
    "print('\\n precision : ',prec[0])\n",
    "print('\\n Recall : ',prec[1])\n",
    "\n",
    "prs=roc_curve(test_y,pred)\n",
    "\n",
    "print('\\n TPR value is : ',prs[0][1])\n",
    "print('\\n FPR value is :',prs[1][1])\n",
    "\n",
    "ppv=tp/(tp+fp)\n",
    "npv=tn/(tn+fn)\n",
    "\n",
    "print('\\n true prob value : %f and False prob value : %f'%(ppv,npv))\n",
    "\n",
    "f1=f1_score(test_y,pred)\n",
    "\n",
    "print('\\n F1 Score of test data with k= 21 is  : ',f1)\n",
    "\n",
    "acc=accuracy_score(test_y,pred,normalize=True) * float(100)\n",
    "\n",
    "print('\\n Accuracy of test data with k= 21 is  : ',f1)\n",
    "\n",
    "print('#################################################################################################')"
   ]
  },
  {
   "cell_type": "code",
   "execution_count": 33,
   "metadata": {},
   "outputs": [
    {
     "data": {
      "image/png": "[encoded data removed]",
      "text/plain": [
       "<Figure size 576x432 with 2 Axes>"
      ]
     },
     "metadata": {},
     "output_type": "display_data"
    }
   ],
   "source": [
    "Conf_matrix=confusion_matrix(test_y, pred)\n",
    "plot_confusion_matrix(cm           = Conf_matrix, \n",
    "                      normalize    = False,\n",
    "                      target_names = ['Negative', 'Positive'],\n",
    "                      title        = \"Confusion Matrix\")"
   ]
  },
  {
   "cell_type": "code",
   "execution_count": 34,
   "metadata": {},
   "outputs": [
    {
     "name": "stdout",
     "output_type": "stream",
     "text": [
      "[[ 409 1609]\n",
      " [ 152 9484]]\n"
     ]
    },
    {
     "data": {
      "text/html": [
       "<div>\n",
       "<style scoped>\n",
       "    .dataframe tbody tr th:only-of-type {\n",
       "        vertical-align: middle;\n",
       "    }\n",
       "\n",
       "    .dataframe tbody tr th {\n",
       "        vertical-align: top;\n",
       "    }\n",
       "\n",
       "    .dataframe thead th {\n",
       "        text-align: right;\n",
       "    }\n",
       "</style>\n",
       "<table border=\"1\" class=\"dataframe\">\n",
       "  <thead>\n",
       "    <tr style=\"text-align: right;\">\n",
       "      <th>Predicted</th>\n",
       "      <th>0</th>\n",
       "      <th>1</th>\n",
       "      <th>All</th>\n",
       "    </tr>\n",
       "    <tr>\n",
       "      <th>True</th>\n",
       "      <th></th>\n",
       "      <th></th>\n",
       "      <th></th>\n",
       "    </tr>\n",
       "  </thead>\n",
       "  <tbody>\n",
       "    <tr>\n",
       "      <th>0</th>\n",
       "      <td>409</td>\n",
       "      <td>1609</td>\n",
       "      <td>2018</td>\n",
       "    </tr>\n",
       "    <tr>\n",
       "      <th>1</th>\n",
       "      <td>152</td>\n",
       "      <td>9484</td>\n",
       "      <td>9636</td>\n",
       "    </tr>\n",
       "    <tr>\n",
       "      <th>All</th>\n",
       "      <td>561</td>\n",
       "      <td>11093</td>\n",
       "      <td>11654</td>\n",
       "    </tr>\n",
       "  </tbody>\n",
       "</table>\n",
       "</div>"
      ],
      "text/plain": [
       "Predicted    0      1    All\n",
       "True                        \n",
       "0          409   1609   2018\n",
       "1          152   9484   9636\n",
       "All        561  11093  11654"
      ]
     },
     "execution_count": 34,
     "metadata": {},
     "output_type": "execute_result"
    },
    {
     "data": {
      "image/png": "[encoded data removed]",
      "text/plain": [
       "<Figure size 432x288 with 2 Axes>"
      ]
     },
     "metadata": {},
     "output_type": "display_data"
    }
   ],
   "source": [
    "print(Conf_matrix)\n",
    "import seaborn as sn\n",
    "cm=pd.DataFrame(Conf_matrix,index=['Positive','Negative'],columns=['Positive','Negative'])\n",
    "\n",
    "sn.heatmap(cm,annot=True,annot_kws={\"size\": 12})#font-size\n",
    "\n",
    "pd.crosstab(test_y, pred, rownames=['True'], colnames=['Predicted'], margins=True)"
   ]
  },
  {
   "cell_type": "code",
   "execution_count": 35,
   "metadata": {},
   "outputs": [
    {
     "name": "stdout",
     "output_type": "stream",
     "text": [
      "             precision    recall  f1-score   support\n",
      "\n",
      "          0       0.73      0.20      0.32      2018\n",
      "          1       0.85      0.98      0.92      9636\n",
      "\n",
      "avg / total       0.83      0.85      0.81     11654\n",
      "\n"
     ]
    }
   ],
   "source": [
    "print(classification_report(test_y, pred))  "
   ]
  },
  {
   "cell_type": "markdown",
   "metadata": {},
   "source": [
    "# Conclusion"
   ]
  },
  {
   "cell_type": "code",
   "execution_count": 36,
   "metadata": {
    "scrolled": true
   },
   "outputs": [
    {
     "name": "stdout",
     "output_type": "stream",
     "text": [
      "** Conclusion : Accuracy for Amazon review dataset with different vectorizers \n",
      "\n",
      "+--------------------+---------+------------------+-------------------+\n",
      "|     Vectorizer     |  Model  | Hyper Parameters | Accuracy/F1-score |\n",
      "+--------------------+---------+------------------+-------------------+\n",
      "|        BOW         | KD-TREE |        29        |       90.07       |\n",
      "|       TFIDF        | KD-TREE |        29        |       90.03       |\n",
      "|      Avg-W2V       | KD-TREE |        13        |       91.93       |\n",
      "| Tfidf weighted W2V | KD-TREE |        21        |        91.5       |\n",
      "+--------------------+---------+------------------+-------------------+\n"
     ]
    }
   ],
   "source": [
    "\n",
    "from prettytable import PrettyTable\n",
    "\n",
    "x=PrettyTable()\n",
    "\n",
    "x.field_names=[\"Vectorizer\",\"Model\",\"Hyper Parameters\",\"Accuracy/F1-score\"]\n",
    "\n",
    "x.add_row(['BOW','KD-TREE','29','90.07'])\n",
    "x.add_row(['TFIDF','KD-TREE','29','90.03'])\n",
    "x.add_row(['Avg-W2V','KD-TREE','13','91.93'])\n",
    "x.add_row(['Tfidf weighted W2V','KD-TREE','21','91.5'])\n",
    "print('** Conclusion : Accuracy for Amazon review dataset with different vectorizers \\n')\n",
    "print(x)\n"
   ]
  },
  {
   "cell_type": "code",
   "execution_count": null,
   "metadata": {
    "scrolled": true
   },
   "outputs": [],
   "source": []
  }
 ],
 "metadata": {
  "celltoolbar": "Raw Cell Format",
  "kernelspec": {
   "display_name": "Python 3",
   "language": "python",
   "name": "python3"
  },
  "language_info": {
   "codemirror_mode": {
    "name": "ipython",
    "version": 3
   },
   "file_extension": ".py",
   "mimetype": "text/x-python",
   "name": "python",
   "nbconvert_exporter": "python",
   "pygments_lexer": "ipython3",
   "version": "3.6.5"
  }
 },
 "nbformat": 4,
 "nbformat_minor": 2
}
