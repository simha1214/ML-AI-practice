{
 "cells": [
  {
   "cell_type": "code",
   "execution_count": 1,
   "metadata": {
    "scrolled": false
   },
   "outputs": [
    {
     "name": "stderr",
     "output_type": "stream",
     "text": [
      "C:\\Users\\Simha\\Anaconda3\\lib\\site-packages\\sklearn\\cross_validation.py:41: DeprecationWarning: This module was deprecated in version 0.18 in favor of the model_selection module into which all the refactored classes and functions are moved. Also note that the interface of the new CV iterators are different from that of this module. This module will be removed in 0.20.\n",
      "  \"This module will be removed in 0.20.\", DeprecationWarning)\n",
      "C:\\Users\\Simha\\Anaconda3\\lib\\site-packages\\gensim\\utils.py:1212: UserWarning: detected Windows; aliasing chunkize to chunkize_serial\n",
      "  warnings.warn(\"detected Windows; aliasing chunkize to chunkize_serial\")\n"
     ]
    }
   ],
   "source": [
    "import warnings\n",
    "warnings.filterwarnings(\"ignore\")\n",
    "import pandas as pd\n",
    "import numpy as np\n",
    "import seaborn as sn\n",
    "import matplotlib.pyplot as plt\n",
    "from matplotlib.colors import ListedColormap\n",
    "\n",
    "from sklearn.cross_validation import train_test_split\n",
    "from sklearn.cross_validation import cross_val_score\n",
    "from sklearn.metrics import accuracy_score\n",
    "from sklearn.neighbors import KNeighborsClassifier\n",
    "from collections import Counter\n",
    "from sklearn import cross_validation\n",
    "import sqlite3\n",
    "\n",
    "from sklearn.feature_extraction.text import CountVectorizer\n",
    "from sklearn.feature_extraction.text import TfidfVectorizer\n",
    "\n",
    "from gensim.models import Word2Vec\n",
    "from gensim.models import KeyedVectors\n",
    "import pickle\n",
    "from tqdm import tqdm\n",
    "\n",
    "import seaborn as sn\n",
    "import nltk\n",
    "import string\n",
    "#from sklearn.manifold import TSNE\n",
    "\n",
    "from sklearn.decomposition import TruncatedSVD\n",
    "from sklearn.metrics import roc_curve\n",
    "from sklearn.metrics import f1_score\n",
    "from sklearn.metrics import confusion_matrix,classification_report\n",
    "from sklearn.metrics import precision_recall_fscore_support"
   ]
  },
  {
   "cell_type": "code",
   "execution_count": 2,
   "metadata": {
    "scrolled": false
   },
   "outputs": [],
   "source": [
    "conn=sqlite3.connect('final.sqlite')\n",
    "\n",
    "filter_data=pd.read_sql_query(\"\"\" Select * from Reviews where Score!=3\"\"\",conn)"
   ]
  },
  {
   "cell_type": "code",
   "execution_count": 3,
   "metadata": {
    "scrolled": false
   },
   "outputs": [
    {
     "name": "stdout",
     "output_type": "stream",
     "text": [
      "(364171, 13)\n"
     ]
    },
    {
     "data": {
      "text/html": [
       "<div>\n",
       "<style scoped>\n",
       "    .dataframe tbody tr th:only-of-type {\n",
       "        vertical-align: middle;\n",
       "    }\n",
       "\n",
       "    .dataframe tbody tr th {\n",
       "        vertical-align: top;\n",
       "    }\n",
       "\n",
       "    .dataframe thead th {\n",
       "        text-align: right;\n",
       "    }\n",
       "</style>\n",
       "<table border=\"1\" class=\"dataframe\">\n",
       "  <thead>\n",
       "    <tr style=\"text-align: right;\">\n",
       "      <th></th>\n",
       "      <th>level_0</th>\n",
       "      <th>index</th>\n",
       "      <th>Id</th>\n",
       "      <th>ProductId</th>\n",
       "      <th>UserId</th>\n",
       "      <th>ProfileName</th>\n",
       "      <th>HelpfulnessNumerator</th>\n",
       "      <th>HelpfulnessDenominator</th>\n",
       "      <th>Score</th>\n",
       "      <th>Time</th>\n",
       "      <th>Summary</th>\n",
       "      <th>Text</th>\n",
       "      <th>CleanedText</th>\n",
       "    </tr>\n",
       "  </thead>\n",
       "  <tbody>\n",
       "    <tr>\n",
       "      <th>0</th>\n",
       "      <td>0</td>\n",
       "      <td>138706</td>\n",
       "      <td>150524</td>\n",
       "      <td>0006641040</td>\n",
       "      <td>ACITT7DI6IDDL</td>\n",
       "      <td>shari zychinski</td>\n",
       "      <td>0</td>\n",
       "      <td>0</td>\n",
       "      <td>1</td>\n",
       "      <td>939340800</td>\n",
       "      <td>EVERY book is educational</td>\n",
       "      <td>this witty little book makes my son laugh at l...</td>\n",
       "      <td>witti littl book make son laugh loud recit car...</td>\n",
       "    </tr>\n",
       "    <tr>\n",
       "      <th>1</th>\n",
       "      <td>1</td>\n",
       "      <td>138688</td>\n",
       "      <td>150506</td>\n",
       "      <td>0006641040</td>\n",
       "      <td>A2IW4PEEKO2R0U</td>\n",
       "      <td>Tracy</td>\n",
       "      <td>1</td>\n",
       "      <td>1</td>\n",
       "      <td>1</td>\n",
       "      <td>1194739200</td>\n",
       "      <td>Love the book, miss the hard cover version</td>\n",
       "      <td>I grew up reading these Sendak books, and watc...</td>\n",
       "      <td>grew read sendak book watch realli rosi movi i...</td>\n",
       "    </tr>\n",
       "    <tr>\n",
       "      <th>2</th>\n",
       "      <td>2</td>\n",
       "      <td>138689</td>\n",
       "      <td>150507</td>\n",
       "      <td>0006641040</td>\n",
       "      <td>A1S4A3IQ2MU7V4</td>\n",
       "      <td>sally sue \"sally sue\"</td>\n",
       "      <td>1</td>\n",
       "      <td>1</td>\n",
       "      <td>1</td>\n",
       "      <td>1191456000</td>\n",
       "      <td>chicken soup with rice months</td>\n",
       "      <td>This is a fun way for children to learn their ...</td>\n",
       "      <td>fun way children learn month year learn poem t...</td>\n",
       "    </tr>\n",
       "  </tbody>\n",
       "</table>\n",
       "</div>"
      ],
      "text/plain": [
       "   level_0   index      Id   ProductId          UserId            ProfileName  \\\n",
       "0        0  138706  150524  0006641040   ACITT7DI6IDDL        shari zychinski   \n",
       "1        1  138688  150506  0006641040  A2IW4PEEKO2R0U                  Tracy   \n",
       "2        2  138689  150507  0006641040  A1S4A3IQ2MU7V4  sally sue \"sally sue\"   \n",
       "\n",
       "   HelpfulnessNumerator  HelpfulnessDenominator  Score        Time  \\\n",
       "0                     0                       0      1   939340800   \n",
       "1                     1                       1      1  1194739200   \n",
       "2                     1                       1      1  1191456000   \n",
       "\n",
       "                                      Summary  \\\n",
       "0                   EVERY book is educational   \n",
       "1  Love the book, miss the hard cover version   \n",
       "2               chicken soup with rice months   \n",
       "\n",
       "                                                Text  \\\n",
       "0  this witty little book makes my son laugh at l...   \n",
       "1  I grew up reading these Sendak books, and watc...   \n",
       "2  This is a fun way for children to learn their ...   \n",
       "\n",
       "                                         CleanedText  \n",
       "0  witti littl book make son laugh loud recit car...  \n",
       "1  grew read sendak book watch realli rosi movi i...  \n",
       "2  fun way children learn month year learn poem t...  "
      ]
     },
     "execution_count": 3,
     "metadata": {},
     "output_type": "execute_result"
    }
   ],
   "source": [
    "print(filter_data.shape)\n",
    "filter_data.head(3)"
   ]
  },
  {
   "cell_type": "code",
   "execution_count": 4,
   "metadata": {
    "scrolled": false
   },
   "outputs": [
    {
     "name": "stdout",
     "output_type": "stream",
     "text": [
      "(58268, 13)\n"
     ]
    }
   ],
   "source": [
    "#fetching some random subset of records from total input, as our system config is less\n",
    "sliced_data,useful_data= cross_validation.train_test_split(filter_data,test_size=0.16,random_state=4)\n",
    "\n",
    "print(useful_data.shape)"
   ]
  },
  {
   "cell_type": "code",
   "execution_count": 5,
   "metadata": {
    "scrolled": false
   },
   "outputs": [
    {
     "data": {
      "text/plain": [
       "1    49057\n",
       "0     9211\n",
       "Name: Score, dtype: int64"
      ]
     },
     "execution_count": 5,
     "metadata": {},
     "output_type": "execute_result"
    }
   ],
   "source": [
    "#Converting date field from seconds format to standard date format.\n",
    "useful_data['Time']=pd.to_datetime(useful_data.Time)\n",
    "\n",
    "\n",
    "#Sort the data now based on time stamp\n",
    "sorted_usefuldata=useful_data.sort_values(by='Time',ascending=True,axis=0,inplace=False,kind='quicksort',na_position='last')\n",
    "\n",
    "sorted_usefuldata['Score'].value_counts()"
   ]
  },
  {
   "cell_type": "code",
   "execution_count": 6,
   "metadata": {
    "scrolled": false
   },
   "outputs": [],
   "source": [
    "#Renaming finalised data variable name.\n",
    "fin_data=sorted_usefuldata"
   ]
  },
  {
   "cell_type": "code",
   "execution_count": 7,
   "metadata": {
    "scrolled": false
   },
   "outputs": [
    {
     "name": "stdout",
     "output_type": "stream",
     "text": [
      "46614\n",
      "size of over all train dataset ::  46614\n",
      "size of test dataset ::  11654\n",
      "\n",
      "size of train dataset ::  32630\n",
      "\n",
      "size of Validation dataset ::  13984\n",
      "(32630,)\n",
      "\n",
      " (13984,)\n",
      "\n",
      " (11654,)\n"
     ]
    }
   ],
   "source": [
    "#Splitting sorted data into train and test subsets\n",
    "lim=58268*0.8\n",
    "print(round(lim))\n",
    "fin_train=fin_data[:round(lim)]\n",
    "print('size of over all train dataset :: ',round(lim))\n",
    "fin_test=fin_data[round(lim):]\n",
    "\n",
    "print('size of test dataset :: ',fin_test.shape[0])\n",
    "\n",
    "\n",
    "\n",
    "\n",
    "train_x=fin_train[:round(fin_train.shape[0]*0.7)]\n",
    "valid_x=fin_train[round(fin_train.shape[0]*0.7):]\n",
    "\n",
    "print('\\nsize of train dataset :: ',train_x.shape[0])\n",
    "print('\\nsize of Validation dataset :: ',valid_x.shape[0])\n",
    "\n",
    "#storing our actual polarity of reviews into seperate variables and used as Y column in KNN\n",
    "\n",
    "all_train_y=fin_train['Score']\n",
    "test_y=fin_test['Score']\n",
    "\n",
    "train_y=all_train_y[:32630]\n",
    "valid_y=all_train_y[32630:]\n",
    "\n",
    "print(train_y.shape)\n",
    "print('\\n',valid_y.shape)\n",
    "print('\\n',test_y.shape)"
   ]
  },
  {
   "cell_type": "code",
   "execution_count": 8,
   "metadata": {
    "scrolled": false
   },
   "outputs": [
    {
     "name": "stdout",
     "output_type": "stream",
     "text": [
      "Size of Train data : (32630, 12)  Type of train data : <class 'pandas.core.frame.DataFrame'>\n",
      "Size of validation data : (13984, 12)  Type of validation data : <class 'pandas.core.frame.DataFrame'>\n",
      "Size of Test data : (11654, 12)  Type of test dataset : <class 'pandas.core.frame.DataFrame'>\n"
     ]
    }
   ],
   "source": [
    "# Converting input into Data frame for easy proccessing by dropping Y  column\n",
    "\n",
    "train_x=pd.DataFrame(train_x, columns=['index', 'Id', 'ProductId', 'UserId', 'ProfileName','HelpfulnessNumerator', 'HelpfulnessDenominator', 'Score', 'Time','Summary', 'Text', 'CleanedText'])\n",
    "valid_x=pd.DataFrame(valid_x, columns=['index', 'Id', 'ProductId', 'UserId', 'ProfileName','HelpfulnessNumerator', 'HelpfulnessDenominator', 'Score', 'Time','Summary', 'Text', 'CleanedText'])\n",
    "fin_test=pd.DataFrame(fin_test, columns=['index', 'Id', 'ProductId', 'UserId', 'ProfileName','HelpfulnessNumerator', 'HelpfulnessDenominator', 'Score', 'Time','Summary', 'Text', 'CleanedText'])\n",
    "\n",
    "\n",
    "print('Size of Train data :',train_x.shape,' Type of train data :',type(train_x))\n",
    "print('Size of validation data :',valid_x.shape,' Type of validation data :',type(valid_x))\n",
    "print('Size of Test data :',fin_test.shape,' Type of test dataset :',type(fin_test))"
   ]
  },
  {
   "cell_type": "markdown",
   "metadata": {},
   "source": [
    "# Implementing BOW and then applying KNN on it."
   ]
  },
  {
   "cell_type": "code",
   "execution_count": 45,
   "metadata": {
    "scrolled": false
   },
   "outputs": [
    {
     "name": "stdout",
     "output_type": "stream",
     "text": [
      "the type of train count vectorizer  <class 'scipy.sparse.csr.csr_matrix'>\n",
      "the shape of train out text BOW vectorizer  (32630, 22431)\n",
      "the number of unique words in train data set   22431\n",
      "\n",
      "\n",
      "the type of validation count vectorizer  <class 'scipy.sparse.csr.csr_matrix'>\n",
      "the shape of validation out text BOW vectorizer  (13984, 22431)\n",
      "the number of unique words in validation data set   22431\n",
      "\n",
      "\n",
      "the type of test count vectorizer  <class 'scipy.sparse.csr.csr_matrix'>\n",
      "the shape of test out text BOW vectorizer  (11654, 22431)\n",
      "the number of unique words in test dataset  22431\n"
     ]
    }
   ],
   "source": [
    "bow_model=CountVectorizer()\n",
    "\n",
    "fin_train_counts=bow_model.fit_transform(train_x['CleanedText'].values)\n",
    "\n",
    "fin_valid_counts=bow_model.transform(valid_x['CleanedText'].values)\n",
    "\n",
    "fin_test_counts=bow_model.transform(fin_test['CleanedText'].values)\n",
    "\n",
    "print(\"the type of train count vectorizer \",type(fin_train_counts))\n",
    "print(\"the shape of train out text BOW vectorizer \",fin_train_counts.get_shape())\n",
    "print(\"the number of unique words in train data set  \", fin_train_counts.get_shape()[1])\n",
    "\n",
    "\n",
    "print(\"\\n\\nthe type of validation count vectorizer \",type(fin_valid_counts))\n",
    "print(\"the shape of validation out text BOW vectorizer \",fin_valid_counts.get_shape())\n",
    "print(\"the number of unique words in validation data set  \", fin_valid_counts.get_shape()[1])\n",
    "\n",
    "\n",
    "\n",
    "print(\"\\n\\nthe type of test count vectorizer \",type(fin_test_counts))\n",
    "print(\"the shape of test out text BOW vectorizer \",fin_test_counts.get_shape())\n",
    "print(\"the number of unique words in test dataset \", fin_test_counts.get_shape()[1])"
   ]
  },
  {
   "cell_type": "code",
   "execution_count": 10,
   "metadata": {
    "scrolled": false
   },
   "outputs": [
    {
     "name": "stdout",
     "output_type": "stream",
     "text": [
      "F1 score for validation data on training data with k=1 is 0.8875715114832933\n",
      "F1 score for validation data on training data with k=3 is 0.9026250301035562\n",
      "F1 score for validation data on training data with k=5 is 0.9042633653118904\n",
      "F1 score for validation data on training data with k=7 is 0.9052598225602028\n",
      "F1 score for validation data on training data with k=9 is 0.9053562964133354\n",
      "F1 score for validation data on training data with k=11 is 0.9050605451031437\n",
      "F1 score for validation data on training data with k=13 is 0.9045780474351903\n",
      "F1 score for validation data on training data with k=15 is 0.9046812866648294\n",
      "F1 score for validation data on training data with k=17 is 0.9043122442555871\n",
      "F1 score for validation data on training data with k=19 is 0.9039414680198252\n",
      "F1 score for validation data on training data with k=21 is 0.9036495202139374\n",
      "F1 score for validation data on training data with k=23 is 0.9032587758952788\n",
      "F1 score for validation data on training data with k=25 is 0.9033601886421693\n",
      "F1 score for validation data on training data with k=27 is 0.903489468720528\n",
      "F1 score for validation data on training data with k=29 is 0.9030914876065523\n"
     ]
    }
   ],
   "source": [
    "#Applying KNN\n",
    "scores=[]\n",
    "for i in range(1,30,2):\n",
    "    # instantiate learning model (k = 30)\n",
    "    knn = KNeighborsClassifier(n_neighbors=i, algorithm=\"brute\")\n",
    "\n",
    "    # fitting the model on crossvalidation train\n",
    "    knn.fit(fin_train_counts, train_y)\n",
    "\n",
    "    # predict the response on the crossvalidation train\n",
    "    pred = knn.predict(fin_valid_counts)\n",
    "    # ---  https://towardsdatascience.com/what-metrics-should-we-use-on-imbalanced-data-set-precision-recall-roc-e2e79252aeba\n",
    "\n",
    "    # from above link we can decide F1_Score will be useful for finding pred prob of our model.\n",
    "    valid_f1score=f1_score(valid_y,pred)\n",
    "    print('F1 score for validation data on training data with k=%d is'%(i),valid_f1score)\n",
    "    \n"
   ]
  },
  {
   "cell_type": "code",
   "execution_count": 46,
   "metadata": {
    "scrolled": false
   },
   "outputs": [],
   "source": [
    "# So frrom above executions we can consider k=9 as optimal value\n",
    "\n",
    "#now we will apply our test dataset on our fit.\n",
    "\n",
    "knn_model=KNeighborsClassifier(n_neighbors=9,algorithm='brute')\n",
    "knn_model.fit(fin_train_counts, train_y)\n",
    "\n",
    "pred=knn_model.predict(fin_test_counts)\n",
    "\n"
   ]
  },
  {
   "cell_type": "code",
   "execution_count": 47,
   "metadata": {
    "scrolled": false
   },
   "outputs": [
    {
     "name": "stdout",
     "output_type": "stream",
     "text": [
      "#################################################################################################\n",
      " Final output after applying KNN with algorithm type = \"BRUTE\"\n",
      "\n",
      " Confusion matrix for test data is : [9601, 35, 1922, 96]\n",
      "\n",
      "\n",
      " precision :  [0.73282443 0.83320316]\n",
      "\n",
      " Recall :  [0.04757185 0.99636779]\n",
      "\n",
      " TPR value is :  0.9524281466798811\n",
      "\n",
      " FPR value is : 0.9963677874636778\n",
      "\n",
      " true prob value : 0.833203 and False prob value : 0.732824\n",
      "\n",
      " F1 Score of test data with k= 9 is  :  0.9075098067016399\n",
      "\n",
      " Accuracy of test data with k= 9 is  :  0.9075098067016399\n",
      "##################################################################################################\n"
     ]
    }
   ],
   "source": [
    "# Now we will calculate confusion matrix, precission, recall, tpr,fpr here \n",
    "# using our test prediction with respect to actual values.\n",
    "print('#################################################################################################')\n",
    "\n",
    "print(' Final output after applying KNN with algorithm type = \"BRUTE\"')\n",
    "tn, fp, fn, tp=confusion_matrix(test_y,pred).ravel()\n",
    "\n",
    "print('\\n Confusion matrix for test data is : [%d, %d, %d, %d]\\n'%(tp,fn,fp,tn))\n",
    "\n",
    "prec=precision_recall_fscore_support(test_y,pred)\n",
    "\n",
    "print('\\n precision : ',prec[0])\n",
    "print('\\n Recall : ',prec[1])\n",
    "\n",
    "prs=roc_curve(test_y,pred)\n",
    "\n",
    "print('\\n TPR value is : ',prs[0][1])\n",
    "print('\\n FPR value is :',prs[1][1])\n",
    "\n",
    "ppv=tp/(tp+fp)\n",
    "npv=tn/(tn+fn)\n",
    "\n",
    "print('\\n true prob value : %f and False prob value : %f'%(ppv,npv))\n",
    "\n",
    "f1=f1_score(test_y,pred)\n",
    "\n",
    "print('\\n F1 Score of test data with k= 9 is  : ',f1)\n",
    "acc=accuracy_score(test_y,pred,normalize=True) * float(100)\n",
    "\n",
    "print('\\n Accuracy of test data with k= 9 is  : ',f1)\n",
    "\n",
    "\n",
    "print('##################################################################################################')"
   ]
  },
  {
   "cell_type": "code",
   "execution_count": 19,
   "metadata": {
    "scrolled": false
   },
   "outputs": [],
   "source": [
    "# Function for plotting Confusion Matrix\n",
    "# Using this snipped of code copied from kaggle\n",
    "import numpy as np\n",
    "\n",
    "\n",
    "def plot_confusion_matrix(cm,\n",
    "                          target_names,\n",
    "                          title='Confusion matrix',\n",
    "                          cmap=None,\n",
    "                          normalize=True):\n",
    "\n",
    "    import matplotlib.pyplot as plt\n",
    "    import numpy as np\n",
    "    import itertools\n",
    "\n",
    "    accuracy = np.trace(cm) / float(np.sum(cm))\n",
    "    misclass = 1 - accuracy\n",
    "\n",
    "    if cmap is None:\n",
    "        cmap = plt.get_cmap('Blues')\n",
    "\n",
    "    plt.figure(figsize=(8, 6))\n",
    "    plt.imshow(cm, interpolation='nearest', cmap=cmap)\n",
    "    plt.title(title)\n",
    "    plt.colorbar()\n",
    "\n",
    "    if target_names is not None:\n",
    "        tick_marks = np.arange(len(target_names))\n",
    "        plt.xticks(tick_marks, target_names, rotation=45)\n",
    "        plt.yticks(tick_marks, target_names)\n",
    "\n",
    "    if normalize:\n",
    "        cm = cm.astype('float') / cm.sum(axis=1)[:, np.newaxis]\n",
    "\n",
    "\n",
    "    thresh = cm.max() / 1.5 if normalize else cm.max() / 2\n",
    "    for i, j in itertools.product(range(cm.shape[0]), range(cm.shape[1])):\n",
    "        if normalize:\n",
    "            plt.text(j, i, \"{:0.4f}\".format(cm[i, j]),\n",
    "                     horizontalalignment=\"center\",\n",
    "                     color=\"white\" if cm[i, j] > thresh else \"black\")\n",
    "        else:\n",
    "            plt.text(j, i, \"{:,}\".format(cm[i, j]),\n",
    "                     horizontalalignment=\"center\",\n",
    "                     color=\"white\" if cm[i, j] > thresh else \"black\")\n",
    "\n",
    "\n",
    "    plt.tight_layout()\n",
    "    plt.ylabel('True label')\n",
    "    plt.xlabel('Predicted label\\naccuracy={:0.4f}; misclass={:0.4f}'.format(accuracy, misclass))\n",
    "    plt.show()"
   ]
  },
  {
   "cell_type": "code",
   "execution_count": 49,
   "metadata": {
    "scrolled": false
   },
   "outputs": [
    {
     "data": {
      "image/png": "[encoded data removed]",
      "text/plain": [
       "<Figure size 576x432 with 2 Axes>"
      ]
     },
     "metadata": {},
     "output_type": "display_data"
    }
   ],
   "source": [
    "Conf_matrix=confusion_matrix(test_y, pred)\n",
    "plot_confusion_matrix(cm           = Conf_matrix, \n",
    "                      normalize    = False,\n",
    "                      target_names = ['Negative', 'Positive'],\n",
    "                      title        = \"Confusion Matrix\")"
   ]
  },
  {
   "cell_type": "code",
   "execution_count": 50,
   "metadata": {
    "scrolled": false
   },
   "outputs": [
    {
     "name": "stdout",
     "output_type": "stream",
     "text": [
      "[[  96 1922]\n",
      " [  35 9601]]\n"
     ]
    },
    {
     "data": {
      "text/html": [
       "<div>\n",
       "<style scoped>\n",
       "    .dataframe tbody tr th:only-of-type {\n",
       "        vertical-align: middle;\n",
       "    }\n",
       "\n",
       "    .dataframe tbody tr th {\n",
       "        vertical-align: top;\n",
       "    }\n",
       "\n",
       "    .dataframe thead th {\n",
       "        text-align: right;\n",
       "    }\n",
       "</style>\n",
       "<table border=\"1\" class=\"dataframe\">\n",
       "  <thead>\n",
       "    <tr style=\"text-align: right;\">\n",
       "      <th>Predicted</th>\n",
       "      <th>0</th>\n",
       "      <th>1</th>\n",
       "      <th>All</th>\n",
       "    </tr>\n",
       "    <tr>\n",
       "      <th>True</th>\n",
       "      <th></th>\n",
       "      <th></th>\n",
       "      <th></th>\n",
       "    </tr>\n",
       "  </thead>\n",
       "  <tbody>\n",
       "    <tr>\n",
       "      <th>0</th>\n",
       "      <td>96</td>\n",
       "      <td>1922</td>\n",
       "      <td>2018</td>\n",
       "    </tr>\n",
       "    <tr>\n",
       "      <th>1</th>\n",
       "      <td>35</td>\n",
       "      <td>9601</td>\n",
       "      <td>9636</td>\n",
       "    </tr>\n",
       "    <tr>\n",
       "      <th>All</th>\n",
       "      <td>131</td>\n",
       "      <td>11523</td>\n",
       "      <td>11654</td>\n",
       "    </tr>\n",
       "  </tbody>\n",
       "</table>\n",
       "</div>"
      ],
      "text/plain": [
       "Predicted    0      1    All\n",
       "True                        \n",
       "0           96   1922   2018\n",
       "1           35   9601   9636\n",
       "All        131  11523  11654"
      ]
     },
     "execution_count": 50,
     "metadata": {},
     "output_type": "execute_result"
    },
    {
     "data": {
      "image/png": "[encoded data removed]",
      "text/plain": [
       "<Figure size 432x288 with 2 Axes>"
      ]
     },
     "metadata": {},
     "output_type": "display_data"
    }
   ],
   "source": [
    "print(Conf_matrix)\n",
    "import seaborn as sn\n",
    "cm=pd.DataFrame(Conf_matrix,index=['Positive','Negative'],columns=['Positive','Negative'])\n",
    "\n",
    "sn.heatmap(cm,annot=True,annot_kws={\"size\": 12})#font-size\n",
    "\n",
    "pd.crosstab(test_y, pred, rownames=['True'], colnames=['Predicted'], margins=True)"
   ]
  },
  {
   "cell_type": "code",
   "execution_count": 51,
   "metadata": {
    "scrolled": false
   },
   "outputs": [
    {
     "name": "stdout",
     "output_type": "stream",
     "text": [
      "             precision    recall  f1-score   support\n",
      "\n",
      "          0       0.73      0.05      0.09      2018\n",
      "          1       0.83      1.00      0.91      9636\n",
      "\n",
      "avg / total       0.82      0.83      0.77     11654\n",
      "\n"
     ]
    }
   ],
   "source": [
    "print(classification_report(test_y, pred))  "
   ]
  },
  {
   "cell_type": "markdown",
   "metadata": {},
   "source": [
    "# Tfidf with KNN\n"
   ]
  },
  {
   "cell_type": "code",
   "execution_count": 10,
   "metadata": {
    "scrolled": false
   },
   "outputs": [
    {
     "name": "stdout",
     "output_type": "stream",
     "text": [
      "the type of train count vectorizer  <class 'scipy.sparse.csr.csr_matrix'>\n",
      "the shape of train out text BOW vectorizer  (32630, 567305)\n",
      "the number of unique words in train data set   567305\n",
      "\n",
      "\n",
      "the type of valid count vectorizer  <class 'scipy.sparse.csr.csr_matrix'>\n",
      "the shape of validation out text BOW vectorizer  (13984, 567305)\n",
      "the number of unique words in validation dataset  567305\n",
      "\n",
      "\n",
      "the type of test count vectorizer  <class 'scipy.sparse.csr.csr_matrix'>\n",
      "the shape of test out text BOW vectorizer  (11654, 567305)\n",
      "the number of unique words in test dataset  567305\n"
     ]
    }
   ],
   "source": [
    "# Fitting a tfidf model and transforming our input data into that model on both test ad train datasets\n",
    "\n",
    "tf_model=TfidfVectorizer(ngram_range=(1,2))\n",
    "\n",
    "fin_train_counts=tf_model.fit_transform(train_x['CleanedText'].values)\n",
    "\n",
    "fin_valid_counts=tf_model.transform(valid_x['CleanedText'].values)\n",
    "\n",
    "fin_test_counts=tf_model.transform(fin_test['CleanedText'].values)\n",
    "\n",
    "print(\"the type of train count vectorizer \",type(fin_train_counts))\n",
    "print(\"the shape of train out text BOW vectorizer \",fin_train_counts.get_shape())\n",
    "print(\"the number of unique words in train data set  \", fin_train_counts.get_shape()[1])\n",
    "\n",
    "\n",
    "print(\"\\n\\nthe type of valid count vectorizer \",type(fin_valid_counts))\n",
    "print(\"the shape of validation out text BOW vectorizer \",fin_valid_counts.get_shape())\n",
    "print(\"the number of unique words in validation dataset \", fin_valid_counts.get_shape()[1])\n",
    "\n",
    "print(\"\\n\\nthe type of test count vectorizer \",type(fin_test_counts))\n",
    "print(\"the shape of test out text BOW vectorizer \",fin_test_counts.get_shape())\n",
    "print(\"the number of unique words in test dataset \", fin_test_counts.get_shape()[1])"
   ]
  },
  {
   "cell_type": "markdown",
   "metadata": {},
   "source": [
    "# Applying KNN on tfidf data"
   ]
  },
  {
   "cell_type": "code",
   "execution_count": 19,
   "metadata": {
    "scrolled": false
   },
   "outputs": [
    {
     "name": "stdout",
     "output_type": "stream",
     "text": [
      "\n",
      "Accuracy for k = 1 for train data on Validation dataset is -  79.94136155606407\n",
      "\n",
      "Accuracy for k = 3 for train data on Validation dataset is -  83.35240274599542\n",
      "\n",
      "Accuracy for k = 5 for train data on Validation dataset is -  84.17477116704805\n",
      "\n",
      "Accuracy for k = 7 for train data on Validation dataset is -  84.29633867276888\n",
      "\n",
      "Accuracy for k = 9 for train data on Validation dataset is -  84.18907322654462\n",
      "\n",
      "Accuracy for k = 11 for train data on Validation dataset is -  84.09610983981693\n",
      "\n",
      "Accuracy for k = 13 for train data on Validation dataset is -  84.16046910755148\n",
      "\n",
      "Accuracy for k = 15 for train data on Validation dataset is -  83.96024027459954\n",
      "\n",
      "Accuracy for k = 17 for train data on Validation dataset is -  83.83152173913044\n",
      "\n",
      "Accuracy for k = 19 for train data on Validation dataset is -  83.74570938215103\n",
      "\n",
      "Accuracy for k = 21 for train data on Validation dataset is -  83.73855835240275\n",
      "\n",
      "Accuracy for k = 23 for train data on Validation dataset is -  83.66704805491992\n",
      "\n",
      "Accuracy for k = 25 for train data on Validation dataset is -  83.5812356979405\n",
      "\n",
      "Accuracy for k = 27 for train data on Validation dataset is -  83.58838672768879\n",
      "\n",
      "Accuracy for k = 29 for train data on Validation dataset is -  83.55263157894737\n"
     ]
    }
   ],
   "source": [
    "#Applying KNN\n",
    "cv_scores=[]\n",
    "for i in range(1,30,2):\n",
    "    knn_model=KNeighborsClassifier(n_neighbors=i,algorithm='brute')#creating model template\n",
    "    \n",
    "    #fit model for validation\n",
    "    knn_model.fit(fin_train_counts,train_y)\n",
    "    \n",
    "    #Now, predict using validation data\n",
    "    pred=knn_model.predict(fin_valid_counts)\n",
    "    #accuracy calculation\n",
    "    acc = accuracy_score(valid_y, pred, normalize=True) * float(100)\n",
    "    print('\\nAccuracy for k = %d for train data on Validation dataset is - '%(i),acc)\n",
    "    cv_scores.append(acc)\n",
    "    #print('\\nfpr for k %d is '%(i),fpr)\n",
    "    #print('\\n')"
   ]
  },
  {
   "cell_type": "code",
   "execution_count": 21,
   "metadata": {
    "scrolled": false
   },
   "outputs": [
    {
     "name": "stdout",
     "output_type": "stream",
     "text": [
      "\n",
      "The optimal number of neighbors is 7.\n"
     ]
    },
    {
     "data": {
      "image/png": "[encoded data removed]",
      "text/plain": [
       "<Figure size 432x288 with 1 Axes>"
      ]
     },
     "metadata": {},
     "output_type": "display_data"
    },
    {
     "name": "stdout",
     "output_type": "stream",
     "text": [
      "the misclassification error for each k value is :  [-78.941 -82.352 -83.175 -83.296 -83.189 -83.096 -83.16  -82.96  -82.832\n",
      " -82.746 -82.739 -82.667 -82.581 -82.588 -82.553]\n"
     ]
    }
   ],
   "source": [
    "myList = list(range(0,30))\n",
    "neighbors = list(filter(lambda x: x % 2 != 0, myList))\n",
    "\n",
    "\n",
    "# changing to misclassification error\n",
    "MSE = [1 - x for x in cv_scores]\n",
    "\n",
    "# determining best k\n",
    "optimal_k = neighbors[MSE.index(min(MSE))]\n",
    "print('\\nThe optimal number of neighbors is %d.' % optimal_k)\n",
    "\n",
    "# plot misclassification error vs k \n",
    "plt.plot(neighbors, MSE)\n",
    "\n",
    "for xy in zip(neighbors, np.round(MSE,3)):\n",
    "    plt.annotate('(%s, %s)' % xy, xy=xy, textcoords='data')\n",
    "\n",
    "plt.xlabel('Number of Neighbors K')\n",
    "plt.ylabel('Misclassification Error')\n",
    "plt.show()\n",
    "\n",
    "print(\"the misclassification error for each k value is : \", np.round(MSE,3))"
   ]
  },
  {
   "cell_type": "code",
   "execution_count": 11,
   "metadata": {
    "scrolled": false
   },
   "outputs": [],
   "source": [
    "# So frrom above executions we can consider k=7 as optimal value with F1-score as 84.29\n",
    "\n",
    "#now we will apply our test dataset on our fit.\n",
    "\n",
    "knn_model=KNeighborsClassifier(n_neighbors=7,algorithm='brute')\n",
    "knn_model.fit(fin_train_counts,train_y)\n",
    "\n",
    "pred=knn_model.predict(fin_test_counts)\n"
   ]
  },
  {
   "cell_type": "code",
   "execution_count": 12,
   "metadata": {
    "scrolled": false
   },
   "outputs": [
    {
     "name": "stdout",
     "output_type": "stream",
     "text": [
      "#################################################################################################\n",
      " Final output after applying KNN with algorithm type = \"BRUTE\"\n",
      "\n",
      "Confusion matrix for test data is : [9518, 118, 1678, 340]\n",
      "\n",
      "\n",
      " precision :  [0.74235808 0.85012504]\n",
      "\n",
      " Recall :  [0.16848365 0.98775425]\n",
      "\n",
      " TPR value is :  0.8315163528245788\n",
      "\n",
      " FPR value is : 0.9877542548775425\n",
      "\n",
      " true prob value : 0.850125 and False prob value : 0.742358\n",
      "\n",
      " F1 Score of test data with k= 7 is  :  0.9137864823348695\n",
      "\n",
      " Accuracy of test data with k= 7 is  :  0.9137864823348695\n",
      "##################################################################################################\n"
     ]
    }
   ],
   "source": [
    "# Now we will calculate confusion matrix, precission, recall, tpr,fpr here \n",
    "# using our test prediction with respect to actual values.\n",
    "print('#################################################################################################')\n",
    "\n",
    "print(' Final output after applying KNN with algorithm type = \"BRUTE\"')\n",
    "tn, fp, fn, tp=confusion_matrix(test_y,pred).ravel()\n",
    "\n",
    "print('\\nConfusion matrix for test data is : [%d, %d, %d, %d]\\n'%(tp,fn,fp,tn))\n",
    "\n",
    "prec=precision_recall_fscore_support(test_y,pred)\n",
    "\n",
    "print('\\n precision : ',prec[0])\n",
    "print('\\n Recall : ',prec[1])\n",
    "\n",
    "prs=roc_curve(test_y,pred)\n",
    "\n",
    "print('\\n TPR value is : ',prs[0][1])\n",
    "print('\\n FPR value is :',prs[1][1])\n",
    "\n",
    "ppv=tp/(tp+fp)\n",
    "npv=tn/(tn+fn)\n",
    "\n",
    "print('\\n true prob value : %f and False prob value : %f'%(ppv,npv))\n",
    "\n",
    "f1=f1_score(test_y,pred)\n",
    "\n",
    "print('\\n F1 Score of test data with k= 7 is  : ',f1)\n",
    "acc=accuracy_score(test_y,pred,normalize=True) * float(100)\n",
    "\n",
    "print('\\n Accuracy of test data with k= 7 is  : ',f1)\n",
    "\n",
    "\n",
    "print('##################################################################################################')"
   ]
  },
  {
   "cell_type": "code",
   "execution_count": 42,
   "metadata": {
    "scrolled": false
   },
   "outputs": [
    {
     "data": {
      "image/png": "[encoded data removed]",
      "text/plain": [
       "<Figure size 576x432 with 2 Axes>"
      ]
     },
     "metadata": {},
     "output_type": "display_data"
    }
   ],
   "source": [
    "Conf_matrix=confusion_matrix(test_y, pred)\n",
    "plot_confusion_matrix(cm           = Conf_matrix, \n",
    "                      normalize    = False,\n",
    "                      target_names = ['Negative', 'Positive'],\n",
    "                      title        = \"Confusion Matrix\")"
   ]
  },
  {
   "cell_type": "code",
   "execution_count": null,
   "metadata": {
    "scrolled": false
   },
   "outputs": [],
   "source": [
    "print(Conf_matrix)\n",
    "import seaborn as sn\n",
    "cm=pd.DataFrame(Conf_matrix,index=['Positive','Negative'],columns=['Positive','Negative'])\n",
    "\n",
    "sn.heatmap(cm,annot=True,annot_kws={\"size\": 12})#font-size\n",
    "\n",
    "pd.crosstab(test_y, pred, rownames=['True'], colnames=['Predicted'], margins=True)"
   ]
  },
  {
   "cell_type": "code",
   "execution_count": 44,
   "metadata": {
    "scrolled": false
   },
   "outputs": [
    {
     "name": "stdout",
     "output_type": "stream",
     "text": [
      "             precision    recall  f1-score   support\n",
      "\n",
      "          0       0.74      0.17      0.27      2018\n",
      "          1       0.85      0.99      0.91      9636\n",
      "\n",
      "avg / total       0.83      0.85      0.80     11654\n",
      "\n"
     ]
    }
   ],
   "source": [
    "print(classification_report(test_y, pred))  "
   ]
  },
  {
   "cell_type": "markdown",
   "metadata": {},
   "source": [
    "# Avg W2v with KNN"
   ]
  },
  {
   "cell_type": "code",
   "execution_count": 9,
   "metadata": {
    "scrolled": false
   },
   "outputs": [
    {
     "name": "stdout",
     "output_type": "stream",
     "text": [
      "rememb see show air televis year ago child sister later bought day thirti someth use seri book song student teach preschool turn whole school purchas along book children tradit live\n",
      "*****************************************************************\n",
      "['rememb', 'see', 'show', 'air', 'televis', 'year', 'ago', 'child', 'sister', 'later', 'bought', 'day', 'thirti', 'someth', 'use', 'seri', 'book', 'song', 'student', 'teach', 'preschool', 'turn', 'whole', 'school', 'purchas', 'along', 'book', 'children', 'tradit', 'live']\n",
      "review describ content pineappl pack well pineappl chunk most stick togeth sugar content color piec rang fade yellow beig caramel brown flatter fresh pineappl chunk absolut delici kind food eat one chunk time clump togeth almost like put wad mouth chew awesom activ outdoor excel sourc quick energi pack bought expir date year guarante youll happi product buy pineappl product may see altern item amazon terribl\n",
      "*****************************************************************\n",
      "['review', 'describ', 'content', 'pineappl', 'pack', 'well', 'pineappl', 'chunk', 'most', 'stick', 'togeth', 'sugar', 'content', 'color', 'piec', 'rang', 'fade', 'yellow', 'beig', 'caramel', 'brown', 'flatter', 'fresh', 'pineappl', 'chunk', 'absolut', 'delici', 'kind', 'food', 'eat', 'one', 'chunk', 'time', 'clump', 'togeth', 'almost', 'like', 'put', 'wad', 'mouth', 'chew', 'awesom', 'activ', 'outdoor', 'excel', 'sourc', 'quick', 'energi', 'pack', 'bought', 'expir', 'date', 'year', 'guarante', 'youll', 'happi', 'product', 'buy', 'pineappl', 'product', 'may', 'see', 'altern', 'item', 'amazon', 'terribl']\n",
      "tri coupl differ type brand spectacular good swp stuff great drink decaf without worri safe chemic use regular decaf tast\n",
      "*****************************************************************\n",
      "['tri', 'coupl', 'differ', 'type', 'brand', 'spectacular', 'good', 'swp', 'stuff', 'great', 'drink', 'decaf', 'without', 'worri', 'safe', 'chemic', 'use', 'regular', 'decaf', 'tast']\n",
      "\n",
      " number of words that occured minimum 5 times in train data:  7844\n",
      "sample words  ['rememb', 'see', 'show', 'air', 'televis', 'year', 'ago', 'child', 'sister', 'later', 'bought', 'day', 'thirti', 'someth', 'use', 'seri', 'book', 'song', 'student', 'teach', 'preschool', 'turn', 'whole', 'school', 'purchas', 'along', 'children', 'tradit', 'live', 'beetlejuic', 'excel', 'funni', 'movi', 'keaton', 'hilari', 'great', 'special', 'effect', 'help', 'film', 'think', 'one', 'best', 'ever', 'made', 'sure', 'youll', 'agre', 'good', 'time']\n",
      "\n",
      "number of words that occured minimum 5 times in cv data :  5340\n",
      "\n",
      "sample words  ['review', 'describ', 'content', 'pineappl', 'pack', 'well', 'chunk', 'most', 'stick', 'togeth', 'sugar', 'color', 'piec', 'rang', 'fade', 'yellow', 'caramel', 'brown', 'fresh', 'absolut', 'delici', 'kind', 'food', 'eat', 'one', 'time', 'clump', 'almost', 'like', 'put', 'mouth', 'chew', 'awesom', 'activ', 'outdoor', 'excel', 'sourc', 'quick', 'energi', 'bought', 'expir', 'date', 'year', 'guarante', 'youll', 'happi', 'product', 'buy', 'may', 'see']\n",
      "\n",
      "number of words that occured minimum 5 times in test data :   4821\n",
      "\n",
      "sample words  ['tri', 'coupl', 'differ', 'type', 'brand', 'spectacular', 'good', 'stuff', 'great', 'drink', 'decaf', 'without', 'worri', 'safe', 'chemic', 'use', 'regular', 'tast', 'stevia', 'natur', 'sweeten', 'plant', 'root', 'truvia', 'big', 'granul', 'nice', 'know', 'made', 'petroleum', 'product', 'chlorin', 'sugar', 'etc', 'coffe', 'tea', 'well', 'mix', 'unflavor', 'yogurt', 'help', 'slight', 'alway', 'save', 'packet', 'store', 'box', 'compar', 'price', 'time']\n"
     ]
    }
   ],
   "source": [
    "list_of_sent_train=[]\n",
    "for sent in train_x['CleanedText'].values:  #Splitting each sentence into set of individual words\n",
    "    list_of_sent_train.append(sent.split())\n",
    "    \n",
    "print(train_x['CleanedText'].values[0])\n",
    "print(\"*****************************************************************\")\n",
    "print(list_of_sent_train[0])\n",
    "\n",
    "#Applying Same logic on cv data\n",
    "\n",
    "list_of_sent_cv=[]\n",
    "for sent in valid_x['CleanedText'].values:  #Splitting each sentence into set of individual words\n",
    "    list_of_sent_cv.append(sent.split())\n",
    "    \n",
    "print(valid_x['CleanedText'].values[0])\n",
    "print(\"*****************************************************************\")\n",
    "print(list_of_sent_cv[0])\n",
    "\n",
    "\n",
    "# Applying same logic on test data\n",
    "\n",
    "list_of_sent_test=[]\n",
    "for sent in fin_test['CleanedText'].values:  #Splitting each sentence into set of individual words\n",
    "    list_of_sent_test.append(sent.split())\n",
    "    \n",
    "print(fin_test['CleanedText'].values[0])\n",
    "print(\"*****************************************************************\")\n",
    "print(list_of_sent_test[0])\n",
    "\n",
    "\n",
    "# min_count = 5 considers only words that occured atleast 5 times\n",
    "w2v_model_train=Word2Vec(list_of_sent_train,min_count=5,size=50, workers=4)\n",
    "\n",
    "# min_count = 5 considers only words that occured atleast 5 times\n",
    "w2v_model_cv=Word2Vec(list_of_sent_cv,min_count=5,size=50, workers=4)\n",
    "\n",
    "# min_count = 5 considers only words that occured atleast 5 times\n",
    "w2v_model_test=Word2Vec(list_of_sent_test,min_count=5,size=50, workers=4)\n",
    "\n",
    "\n",
    "#Applying models on datasets( Train,CV,Test )\n",
    "\n",
    "w2v_words_train = list(w2v_model_train.wv.vocab)\n",
    "print(\"\\n number of words that occured minimum 5 times in train data: \",len(w2v_words_train))\n",
    "print(\"sample words \", w2v_words_train[0:50])\n",
    "\n",
    "\n",
    "\n",
    "w2v_words_cv = list(w2v_model_cv.wv.vocab)\n",
    "print(\"\\nnumber of words that occured minimum 5 times in cv data : \",len(w2v_words_cv))\n",
    "print(\"\\nsample words \", w2v_words_cv[0:50])\n",
    "\n",
    "\n",
    "w2v_words_test = list(w2v_model_test.wv.vocab)\n",
    "print(\"\\nnumber of words that occured minimum 5 times in test data :  \",len(w2v_words_test))\n",
    "print(\"\\nsample words \", w2v_words_test[0:50])"
   ]
  },
  {
   "cell_type": "code",
   "execution_count": 10,
   "metadata": {
    "scrolled": false
   },
   "outputs": [
    {
     "name": "stderr",
     "output_type": "stream",
     "text": [
      "100%|███████████████████████████████████| 32630/32630 [01:32<00:00, 353.41it/s]\n"
     ]
    },
    {
     "name": "stdout",
     "output_type": "stream",
     "text": [
      "32630\n",
      "50\n"
     ]
    }
   ],
   "source": [
    "#Calculating AvgW2v\n",
    "\n",
    "# average Word2Vec\n",
    "# compute average word2vec for each review.\n",
    "sent_vectors_train = []; # the avg-w2v for each sentence/review is stored in this list\n",
    "for sent in tqdm(list_of_sent_train): # for each review/sentence\n",
    "    sent_vec = np.zeros(50) # as word vectors are of zero length\n",
    "    cnt_words =0; # num of words with a valid vector in the sentence/review\n",
    "    for word in sent: # for each word in a review/sentence\n",
    "        if word in w2v_words_train:\n",
    "            vec = w2v_model_train.wv[word]\n",
    "            sent_vec += vec\n",
    "            cnt_words += 1\n",
    "    if cnt_words != 0:\n",
    "        sent_vec /= cnt_words\n",
    "    sent_vectors_train.append(sent_vec)\n",
    "print(len(sent_vectors_train))\n",
    "print(len(sent_vectors_train[0]))"
   ]
  },
  {
   "cell_type": "code",
   "execution_count": 11,
   "metadata": {
    "scrolled": false
   },
   "outputs": [
    {
     "name": "stderr",
     "output_type": "stream",
     "text": [
      "100%|███████████████████████████████████| 13984/13984 [00:42<00:00, 331.80it/s]\n"
     ]
    },
    {
     "name": "stdout",
     "output_type": "stream",
     "text": [
      "13984\n",
      "50\n"
     ]
    }
   ],
   "source": [
    "# average Word2Vec\n",
    "# compute average word2vec for each review.\n",
    "sent_vectors_cv = []; # the avg-w2v for each sentence/review is stored in this list\n",
    "for sent in tqdm(list_of_sent_cv): # for each review/sentence\n",
    "    sent_vec = np.zeros(50) # as word vectors are of zero length\n",
    "    cnt_words =0; # num of words with a valid vector in the sentence/review\n",
    "    for word in sent: # for each word in a review/sentence\n",
    "        if word in w2v_words_train:\n",
    "            vec = w2v_model_train.wv[word]\n",
    "            sent_vec += vec\n",
    "            cnt_words += 1\n",
    "    if cnt_words != 0:\n",
    "        sent_vec /= cnt_words\n",
    "    sent_vectors_cv.append(sent_vec)\n",
    "print(len(sent_vectors_cv))\n",
    "print(len(sent_vectors_cv[0]))"
   ]
  },
  {
   "cell_type": "code",
   "execution_count": 12,
   "metadata": {
    "scrolled": false
   },
   "outputs": [
    {
     "name": "stderr",
     "output_type": "stream",
     "text": [
      "100%|███████████████████████████████████| 11654/11654 [00:34<00:00, 341.04it/s]\n"
     ]
    },
    {
     "name": "stdout",
     "output_type": "stream",
     "text": [
      "11654\n",
      "50\n"
     ]
    }
   ],
   "source": [
    "# average Word2Vec\n",
    "# compute average word2vec for each review.\n",
    "sent_vectors_test = []; # the avg-w2v for each sentence/review is stored in this list\n",
    "for sent in tqdm(list_of_sent_test): # for each review/sentence\n",
    "    sent_vec = np.zeros(50) # as word vectors are of zero length\n",
    "    cnt_words =0; # num of words with a valid vector in the sentence/review\n",
    "    for word in sent: # for each word in a review/sentence\n",
    "        if word in w2v_words_train:\n",
    "            vec = w2v_model_train.wv[word]\n",
    "            sent_vec += vec\n",
    "            cnt_words += 1\n",
    "    if cnt_words != 0:\n",
    "        sent_vec /= cnt_words\n",
    "    sent_vectors_test.append(sent_vec)\n",
    "print(len(sent_vectors_test))\n",
    "print(len(sent_vectors_test[0]))"
   ]
  },
  {
   "cell_type": "markdown",
   "metadata": {},
   "source": [
    "# Applying KNN on AvgW2V"
   ]
  },
  {
   "cell_type": "code",
   "execution_count": 13,
   "metadata": {
    "scrolled": false
   },
   "outputs": [
    {
     "name": "stdout",
     "output_type": "stream",
     "text": [
      "\n",
      "Accuracy for k = 1 for train data on Validation dataset is -  81.11413043478261\n",
      "\n",
      "Accuracy for k = 3 for train data on Validation dataset is -  84.13186498855835\n",
      "\n",
      "Accuracy for k = 5 for train data on Validation dataset is -  84.86127002288329\n",
      "\n",
      "Accuracy for k = 7 for train data on Validation dataset is -  85.23312356979405\n",
      "\n",
      "Accuracy for k = 9 for train data on Validation dataset is -  85.51201372997713\n",
      "\n",
      "Accuracy for k = 11 for train data on Validation dataset is -  85.4762585812357\n",
      "\n",
      "Accuracy for k = 13 for train data on Validation dataset is -  85.52631578947368\n",
      "\n",
      "Accuracy for k = 15 for train data on Validation dataset is -  85.38329519450801\n",
      "\n",
      "Accuracy for k = 17 for train data on Validation dataset is -  85.2974828375286\n",
      "\n",
      "Accuracy for k = 19 for train data on Validation dataset is -  85.19736842105263\n",
      "\n",
      "Accuracy for k = 21 for train data on Validation dataset is -  85.15446224256293\n",
      "\n",
      "Accuracy for k = 23 for train data on Validation dataset is -  85.04719679633868\n",
      "\n",
      "Accuracy for k = 25 for train data on Validation dataset is -  84.96853546910755\n",
      "\n",
      "Accuracy for k = 27 for train data on Validation dataset is -  84.854118993135\n",
      "\n",
      "Accuracy for k = 29 for train data on Validation dataset is -  84.89702517162472\n"
     ]
    }
   ],
   "source": [
    "#Applying KNN\n",
    "cv_scores=[]\n",
    "for i in range(1,30,2):\n",
    "    knn_model=KNeighborsClassifier(n_neighbors=i,algorithm='brute')#creating model template\n",
    "    \n",
    "    #fit model for validation\n",
    "    knn_model.fit(sent_vectors_train,train_y)\n",
    "    \n",
    "    #Now, predict using validation data\n",
    "    pred=knn_model.predict(sent_vectors_cv)\n",
    "    acc = accuracy_score(valid_y, pred, normalize=True) * float(100)\n",
    "    print('\\nAccuracy for k = %d for train data on Validation dataset is - '%(i),acc)\n",
    "    cv_scores.append(acc)"
   ]
  },
  {
   "cell_type": "code",
   "execution_count": 14,
   "metadata": {
    "scrolled": false
   },
   "outputs": [
    {
     "name": "stdout",
     "output_type": "stream",
     "text": [
      "\n",
      "The optimal number of neighbors is 13.\n"
     ]
    },
    {
     "data": {
      "image/png": "[encoded data removed]",
      "text/plain": [
       "<Figure size 432x288 with 1 Axes>"
      ]
     },
     "metadata": {},
     "output_type": "display_data"
    },
    {
     "name": "stdout",
     "output_type": "stream",
     "text": [
      "the misclassification error for each k value is :  [-80.114 -83.132 -83.861 -84.233 -84.512 -84.476 -84.526 -84.383 -84.297\n",
      " -84.197 -84.154 -84.047 -83.969 -83.854 -83.897]\n"
     ]
    }
   ],
   "source": [
    "myList = list(range(0,30))\n",
    "neighbors = list(filter(lambda x: x % 2 != 0, myList))\n",
    "\n",
    "\n",
    "# changing to misclassification error\n",
    "MSE = [1 - x for x in cv_scores]\n",
    "\n",
    "# determining best k\n",
    "optimal_k = neighbors[MSE.index(min(MSE))]\n",
    "print('\\nThe optimal number of neighbors is %d.' % optimal_k)\n",
    "\n",
    "# plot misclassification error vs k \n",
    "plt.plot(neighbors, MSE)\n",
    "\n",
    "for xy in zip(neighbors, np.round(MSE,3)):\n",
    "    plt.annotate('(%s, %s)' % xy, xy=xy, textcoords='data')\n",
    "\n",
    "plt.xlabel('Number of Neighbors K')\n",
    "plt.ylabel('Misclassification Error')\n",
    "plt.show()\n",
    "\n",
    "print(\"the misclassification error for each k value is : \", np.round(MSE,3))"
   ]
  },
  {
   "cell_type": "code",
   "execution_count": 15,
   "metadata": {
    "scrolled": false
   },
   "outputs": [],
   "source": [
    "# So frrom above executions we can consider k=13 as optimal value with F1-score as 83.48\n",
    "\n",
    "#now we will apply our test dataset on our fit.\n",
    "\n",
    "knn_model=KNeighborsClassifier(n_neighbors=13,algorithm='brute')\n",
    "knn_model.fit(sent_vectors_train,train_y)\n",
    "\n",
    "pred=knn_model.predict(sent_vectors_test)"
   ]
  },
  {
   "cell_type": "code",
   "execution_count": 17,
   "metadata": {
    "scrolled": false
   },
   "outputs": [
    {
     "name": "stdout",
     "output_type": "stream",
     "text": [
      "#################################################################################################\n",
      "## Final output after applying KNN with algorithm type = \"BRUTE\"\n",
      "\n",
      " Confusion matrix for test data is : [9444, 192, 1468, 550]\n",
      "\n",
      "\n",
      " precision :  [0.74123989 0.86546921]\n",
      "\n",
      " Recall :  [0.27254708 0.98007472]\n",
      "\n",
      " TPR value is :  0.7274529236868187\n",
      "\n",
      " FPR value is : 0.9800747198007472\n",
      "\n",
      " true prob value : 0.865469 and False prob value : 0.741240\n",
      "\n",
      " F1 Score of test data with k= 13 is  :  0.91921354876387\n",
      "\n",
      " Accuracy of test data with k= 13 is  :  0.91921354876387\n",
      "#################################################################################################\n"
     ]
    }
   ],
   "source": [
    "# Now we will calculate confusion matrix, precission, recall, tpr,fpr here \n",
    "# using our test prediction with respect to actual values.\n",
    "print('#################################################################################################')\n",
    "\n",
    "print('## Final output after applying KNN with algorithm type = \"BRUTE\"')\n",
    "tn, fp, fn, tp=confusion_matrix(test_y,pred).ravel()\n",
    "\n",
    "print('\\n Confusion matrix for test data is : [%d, %d, %d, %d]\\n'%(tp,fn,fp,tn))\n",
    "\n",
    "prec=precision_recall_fscore_support(test_y,pred)\n",
    "\n",
    "print('\\n precision : ',prec[0])\n",
    "print('\\n Recall : ',prec[1])\n",
    "\n",
    "prs=roc_curve(test_y,pred)\n",
    "\n",
    "print('\\n TPR value is : ',prs[0][1])\n",
    "print('\\n FPR value is :',prs[1][1])\n",
    "\n",
    "ppv=tp/(tp+fp)\n",
    "npv=tn/(tn+fn)\n",
    "\n",
    "print('\\n true prob value : %f and False prob value : %f'%(ppv,npv))\n",
    "\n",
    "f1=f1_score(test_y,pred)\n",
    "\n",
    "print('\\n F1 Score of test data with k= 13 is  : ',f1)\n",
    "\n",
    "acc=accuracy_score(test_y,pred,normalize=True) * float(100)\n",
    "\n",
    "print('\\n Accuracy of test data with k= 13 is  : ',f1)\n",
    "\n",
    "print('#################################################################################################')"
   ]
  },
  {
   "cell_type": "code",
   "execution_count": 20,
   "metadata": {
    "scrolled": false
   },
   "outputs": [
    {
     "data": {
      "image/png": "[encoded data removed]",
      "text/plain": [
       "<Figure size 576x432 with 2 Axes>"
      ]
     },
     "metadata": {},
     "output_type": "display_data"
    }
   ],
   "source": [
    "Conf_matrix=confusion_matrix(test_y, pred)\n",
    "plot_confusion_matrix(cm           = Conf_matrix, \n",
    "                      normalize    = False,\n",
    "                      target_names = ['Negative', 'Positive'],\n",
    "                      title        = \"Confusion Matrix\")"
   ]
  },
  {
   "cell_type": "code",
   "execution_count": 21,
   "metadata": {
    "scrolled": false
   },
   "outputs": [
    {
     "name": "stdout",
     "output_type": "stream",
     "text": [
      "[[ 550 1468]\n",
      " [ 192 9444]]\n"
     ]
    },
    {
     "data": {
      "text/html": [
       "<div>\n",
       "<style scoped>\n",
       "    .dataframe tbody tr th:only-of-type {\n",
       "        vertical-align: middle;\n",
       "    }\n",
       "\n",
       "    .dataframe tbody tr th {\n",
       "        vertical-align: top;\n",
       "    }\n",
       "\n",
       "    .dataframe thead th {\n",
       "        text-align: right;\n",
       "    }\n",
       "</style>\n",
       "<table border=\"1\" class=\"dataframe\">\n",
       "  <thead>\n",
       "    <tr style=\"text-align: right;\">\n",
       "      <th>Predicted</th>\n",
       "      <th>0</th>\n",
       "      <th>1</th>\n",
       "      <th>All</th>\n",
       "    </tr>\n",
       "    <tr>\n",
       "      <th>True</th>\n",
       "      <th></th>\n",
       "      <th></th>\n",
       "      <th></th>\n",
       "    </tr>\n",
       "  </thead>\n",
       "  <tbody>\n",
       "    <tr>\n",
       "      <th>0</th>\n",
       "      <td>550</td>\n",
       "      <td>1468</td>\n",
       "      <td>2018</td>\n",
       "    </tr>\n",
       "    <tr>\n",
       "      <th>1</th>\n",
       "      <td>192</td>\n",
       "      <td>9444</td>\n",
       "      <td>9636</td>\n",
       "    </tr>\n",
       "    <tr>\n",
       "      <th>All</th>\n",
       "      <td>742</td>\n",
       "      <td>10912</td>\n",
       "      <td>11654</td>\n",
       "    </tr>\n",
       "  </tbody>\n",
       "</table>\n",
       "</div>"
      ],
      "text/plain": [
       "Predicted    0      1    All\n",
       "True                        \n",
       "0          550   1468   2018\n",
       "1          192   9444   9636\n",
       "All        742  10912  11654"
      ]
     },
     "execution_count": 21,
     "metadata": {},
     "output_type": "execute_result"
    },
    {
     "data": {
      "image/png": "[encoded data removed]",
      "text/plain": [
       "<Figure size 432x288 with 2 Axes>"
      ]
     },
     "metadata": {},
     "output_type": "display_data"
    }
   ],
   "source": [
    "print(Conf_matrix)\n",
    "import seaborn as sn\n",
    "cm=pd.DataFrame(Conf_matrix,index=['Positive','Negative'],columns=['Positive','Negative'])\n",
    "\n",
    "sn.heatmap(cm,annot=True,annot_kws={\"size\": 12})#font-size\n",
    "\n",
    "pd.crosstab(test_y, pred, rownames=['True'], colnames=['Predicted'], margins=True)"
   ]
  },
  {
   "cell_type": "code",
   "execution_count": 22,
   "metadata": {
    "scrolled": false
   },
   "outputs": [
    {
     "name": "stdout",
     "output_type": "stream",
     "text": [
      "             precision    recall  f1-score   support\n",
      "\n",
      "          0       0.74      0.27      0.40      2018\n",
      "          1       0.87      0.98      0.92      9636\n",
      "\n",
      "avg / total       0.84      0.86      0.83     11654\n",
      "\n"
     ]
    }
   ],
   "source": [
    "print(classification_report(test_y, pred))  "
   ]
  },
  {
   "cell_type": "markdown",
   "metadata": {},
   "source": [
    "# Tfidf weighted Avg W2v"
   ]
  },
  {
   "cell_type": "code",
   "execution_count": 22,
   "metadata": {
    "scrolled": false
   },
   "outputs": [],
   "source": [
    "# S = [\"abc def pqr\", \"def def def abc\", \"pqr pqr def\"]\n",
    "model_tr = TfidfVectorizer()\n",
    "tf_idf_train_matrix = model_tr.fit_transform(train_x['CleanedText'].values)\n",
    "# we are converting a dictionary with word as a key, and the idf as a value\n",
    "train_dictionary = dict(zip(model_tr.get_feature_names(), list(model_tr.idf_)))\n",
    "\n",
    "#Now create dictionary on validation data\n",
    "tf_idf_valid_matrix = model_tr.transform(valid_x['CleanedText'].values)\n",
    "\n",
    "#Creating dictionary on test data\n",
    "tf_idf_test_matrix = model_tr.transform(fin_test['CleanedText'].values)\n"
   ]
  },
  {
   "cell_type": "code",
   "execution_count": 23,
   "metadata": {
    "scrolled": false
   },
   "outputs": [
    {
     "name": "stderr",
     "output_type": "stream",
     "text": [
      "100%|███████████████████████████████████| 32630/32630 [02:07<00:00, 256.20it/s]\n"
     ]
    }
   ],
   "source": [
    "# TF-IDF weighted Word2Vec\n",
    "#tfidf_feat = model_tr.get_feature_names() # tfidf words/col-names\n",
    "# final_tf_idf is the sparse matrix with row= sentence, col=word and cell_val = tfidf\n",
    "\n",
    "tfidf_sent_vectors_tr = []; # the tfidf-w2v for each sentence/review is stored in this list\n",
    "row=0;\n",
    "for sent in tqdm(list_of_sent_train): # for each review/sentence \n",
    "    sent_vec = np.zeros(50) # as word vectors are of zero length\n",
    "    weight_sum =0; # num of words with a valid vector in the sentence/review\n",
    "    for word in sent: # for each word in a review/sentence\n",
    "        if word in w2v_words_train:\n",
    "            vec = w2v_model_train.wv[word]\n",
    "#             tf_idf = tf_idf_matrix[row, tfidf_feat.index(word)]\n",
    "            # to reduce the computation we are \n",
    "            # dictionary[word] = idf value of word in whole courpus\n",
    "            # sent.count(word) = tf valeus of word in this review\n",
    "            tf_idf = train_dictionary[word]*(sent.count(word)/len(sent))\n",
    "            sent_vec += (vec * tf_idf)\n",
    "            weight_sum += tf_idf\n",
    "    if weight_sum != 0:\n",
    "        sent_vec /= weight_sum\n",
    "    tfidf_sent_vectors_tr.append(sent_vec)\n",
    "    row += 1"
   ]
  },
  {
   "cell_type": "code",
   "execution_count": 24,
   "metadata": {
    "scrolled": false
   },
   "outputs": [
    {
     "name": "stderr",
     "output_type": "stream",
     "text": [
      "100%|███████████████████████████████████| 13984/13984 [00:55<00:00, 250.09it/s]\n"
     ]
    }
   ],
   "source": [
    "tfidf_sent_vectors_val = []; # the tfidf-w2v for each sentence/review is stored in this list\n",
    "row=0;\n",
    "for sent in tqdm(list_of_sent_cv): # for each review/sentence \n",
    "    sent_vec = np.zeros(50) # as word vectors are of zero length\n",
    "    weight_sum =0; # num of words with a valid vector in the sentence/review\n",
    "    for word in sent: # for each word in a review/sentence\n",
    "        if word in w2v_words_train:\n",
    "            vec = w2v_model_train.wv[word]\n",
    "#             tf_idf = tf_idf_matrix[row, tfidf_feat.index(word)]\n",
    "            # to reduce the computation we are \n",
    "            # dictionary[word] = idf value of word in whole courpus\n",
    "            # sent.count(word) = tf valeus of word in this review\n",
    "            tf_idf = train_dictionary[word]*(sent.count(word)/len(sent))\n",
    "            sent_vec += (vec * tf_idf)\n",
    "            weight_sum += tf_idf\n",
    "    if weight_sum != 0:\n",
    "        sent_vec /= weight_sum\n",
    "    tfidf_sent_vectors_val.append(sent_vec)\n",
    "    row += 1"
   ]
  },
  {
   "cell_type": "code",
   "execution_count": 25,
   "metadata": {
    "scrolled": false
   },
   "outputs": [
    {
     "name": "stderr",
     "output_type": "stream",
     "text": [
      "100%|███████████████████████████████████| 11654/11654 [00:44<00:00, 259.89it/s]\n"
     ]
    }
   ],
   "source": [
    "tfidf_sent_vectors_test = []; # the tfidf-w2v for each sentence/review is stored in this list\n",
    "row=0;\n",
    "for sent in tqdm(list_of_sent_test): # for each review/sentence \n",
    "    sent_vec = np.zeros(50) # as word vectors are of zero length\n",
    "    weight_sum =0; # num of words with a valid vector in the sentence/review\n",
    "    for word in sent: # for each word in a review/sentence\n",
    "        if word in w2v_words_train:\n",
    "            vec = w2v_model_train.wv[word]\n",
    "#             tf_idf = tf_idf_matrix[row, tfidf_feat.index(word)]\n",
    "            # to reduce the computation we are \n",
    "            # dictionary[word] = idf value of word in whole courpus\n",
    "            # sent.count(word) = tf valeus of word in this review\n",
    "            tf_idf = train_dictionary[word]*(sent.count(word)/len(sent))\n",
    "            sent_vec += (vec * tf_idf)\n",
    "            weight_sum += tf_idf\n",
    "    if weight_sum != 0:\n",
    "        sent_vec /= weight_sum\n",
    "    tfidf_sent_vectors_test.append(sent_vec)\n",
    "    row += 1"
   ]
  },
  {
   "cell_type": "markdown",
   "metadata": {},
   "source": [
    "# Applying KNN on tfidf weighted w2v"
   ]
  },
  {
   "cell_type": "code",
   "execution_count": 26,
   "metadata": {
    "scrolled": false
   },
   "outputs": [
    {
     "name": "stdout",
     "output_type": "stream",
     "text": [
      "\n",
      "Accuracy for k = 1 for train data on Validation dataset is -  78.9616704805492\n",
      "\n",
      "Accuracy for k = 3 for train data on Validation dataset is -  82.15818077803205\n",
      "\n",
      "Accuracy for k = 5 for train data on Validation dataset is -  83.22368421052632\n",
      "\n",
      "Accuracy for k = 7 for train data on Validation dataset is -  83.64559496567506\n",
      "\n",
      "Accuracy for k = 9 for train data on Validation dataset is -  83.99599542334096\n",
      "\n",
      "Accuracy for k = 11 for train data on Validation dataset is -  84.18907322654462\n",
      "\n",
      "Accuracy for k = 13 for train data on Validation dataset is -  84.21052631578947\n",
      "\n",
      "Accuracy for k = 15 for train data on Validation dataset is -  84.18907322654462\n",
      "\n",
      "Accuracy for k = 17 for train data on Validation dataset is -  84.21767734553775\n",
      "\n",
      "Accuracy for k = 19 for train data on Validation dataset is -  84.2462814645309\n",
      "\n",
      "Accuracy for k = 21 for train data on Validation dataset is -  84.25343249427918\n",
      "\n",
      "Accuracy for k = 23 for train data on Validation dataset is -  84.29633867276888\n",
      "\n",
      "Accuracy for k = 25 for train data on Validation dataset is -  84.21767734553775\n",
      "\n",
      "Accuracy for k = 27 for train data on Validation dataset is -  84.26058352402745\n",
      "\n",
      "Accuracy for k = 29 for train data on Validation dataset is -  84.26773455377574\n"
     ]
    }
   ],
   "source": [
    "#Applying KNN\n",
    "cv_scores=[]\n",
    "for i in range(1,30,2):\n",
    "    knn_model=KNeighborsClassifier(n_neighbors=i,algorithm='brute')#creating model template\n",
    "    \n",
    "    #fit model for validation\n",
    "    knn_model.fit(tfidf_sent_vectors_tr,train_y)\n",
    "    \n",
    "    #Now, predict using validation data\n",
    "    pred=knn_model.predict(tfidf_sent_vectors_val)\n",
    "    acc = accuracy_score(valid_y, pred, normalize=True) * float(100)\n",
    "    print('\\nAccuracy for k = %d for train data on Validation dataset is - '%(i),acc)\n",
    "    cv_scores.append(acc)"
   ]
  },
  {
   "cell_type": "code",
   "execution_count": 27,
   "metadata": {
    "scrolled": false
   },
   "outputs": [
    {
     "name": "stdout",
     "output_type": "stream",
     "text": [
      "\n",
      "The optimal number of neighbors is 23.\n"
     ]
    },
    {
     "data": {
      "image/png": "[encoded data removed]",
      "text/plain": [
       "<Figure size 432x288 with 1 Axes>"
      ]
     },
     "metadata": {},
     "output_type": "display_data"
    },
    {
     "name": "stdout",
     "output_type": "stream",
     "text": [
      "the misclassification error for each k value is :  [-77.962 -81.158 -82.224 -82.646 -82.996 -83.189 -83.211 -83.189 -83.218\n",
      " -83.246 -83.253 -83.296 -83.218 -83.261 -83.268]\n"
     ]
    }
   ],
   "source": [
    "myList = list(range(0,30))\n",
    "neighbors = list(filter(lambda x: x % 2 != 0, myList))\n",
    "\n",
    "\n",
    "# changing to misclassification error\n",
    "MSE = [1 - x for x in cv_scores]\n",
    "\n",
    "# determining best k\n",
    "optimal_k = neighbors[MSE.index(min(MSE))]\n",
    "print('\\nThe optimal number of neighbors is %d.' % optimal_k)\n",
    "\n",
    "# plot misclassification error vs k \n",
    "plt.plot(neighbors, MSE)\n",
    "\n",
    "for xy in zip(neighbors, np.round(MSE,3)):\n",
    "    plt.annotate('(%s, %s)' % xy, xy=xy, textcoords='data')\n",
    "\n",
    "plt.xlabel('Number of Neighbors K')\n",
    "plt.ylabel('Misclassification Error')\n",
    "plt.show()\n",
    "\n",
    "print(\"the misclassification error for each k value is : \", np.round(MSE,3))"
   ]
  },
  {
   "cell_type": "code",
   "execution_count": 28,
   "metadata": {
    "scrolled": false
   },
   "outputs": [],
   "source": [
    "# So frrom above executions we can consider k=23 as optimal value with F1-score as 84.296\n",
    "\n",
    "#now we will apply our test dataset on our fit.\n",
    "\n",
    "knn_model=KNeighborsClassifier(n_neighbors=23,algorithm='brute')\n",
    "knn_model.fit(tfidf_sent_vectors_tr,train_y)\n",
    "\n",
    "pred=knn_model.predict(tfidf_sent_vectors_test)"
   ]
  },
  {
   "cell_type": "code",
   "execution_count": 34,
   "metadata": {
    "scrolled": false
   },
   "outputs": [
    {
     "name": "stdout",
     "output_type": "stream",
     "text": [
      "#################################################################################################\n",
      "## Final output after applying KNN with algorithm type = \"BRUTE\"\n",
      "\n",
      " Confusion matrix for test data is : [9494, 142, 1620, 398]\n",
      "\n",
      "\n",
      " precision :  [0.73703704 0.8542379 ]\n",
      "\n",
      " Recall :  [0.19722498 0.98526359]\n",
      "\n",
      " TPR value is :  0.8027750247770069\n",
      "\n",
      " FPR value is : 0.9852635948526359\n",
      "\n",
      " true prob value : 0.854238 and False prob value : 0.737037\n",
      "\n",
      " F1 Score of test data with k= 23 is  :  0.9150843373493976\n",
      "\n",
      " Accuracy of test data with k= 23 is  :  0.9150843373493976\n",
      "#################################################################################################\n"
     ]
    }
   ],
   "source": [
    "# Now we will calculate confusion matrix, precission, recall, tpr,fpr here \n",
    "# using our test prediction with respect to actual values.\n",
    "print('#################################################################################################')\n",
    "\n",
    "print('## Final output after applying KNN with algorithm type = \"BRUTE\"')\n",
    "tn, fp, fn, tp=confusion_matrix(test_y,pred).ravel()\n",
    "\n",
    "print('\\n Confusion matrix for test data is : [%d, %d, %d, %d]\\n'%(tp,fn,fp,tn))\n",
    "\n",
    "prec=precision_recall_fscore_support(test_y,pred)\n",
    "\n",
    "print('\\n precision : ',prec[0])\n",
    "print('\\n Recall : ',prec[1])\n",
    "\n",
    "prs=roc_curve(test_y,pred)\n",
    "\n",
    "print('\\n TPR value is : ',prs[0][1])\n",
    "print('\\n FPR value is :',prs[1][1])\n",
    "\n",
    "ppv=tp/(tp+fp)\n",
    "npv=tn/(tn+fn)\n",
    "\n",
    "print('\\n true prob value : %f and False prob value : %f'%(ppv,npv))\n",
    "\n",
    "f1=f1_score(test_y,pred)\n",
    "\n",
    "print('\\n F1 Score of test data with k= 23 is  : ',f1)\n",
    "\n",
    "acc=accuracy_score(test_y,pred,normalize=True) * float(100)\n",
    "\n",
    "print('\\n Accuracy of test data with k= 23 is  : ',f1)\n",
    "\n",
    "print('#################################################################################################')"
   ]
  },
  {
   "cell_type": "code",
   "execution_count": 31,
   "metadata": {
    "scrolled": false
   },
   "outputs": [
    {
     "data": {
      "image/png": "[encoded data removed]",
      "text/plain": [
       "<Figure size 576x432 with 2 Axes>"
      ]
     },
     "metadata": {},
     "output_type": "display_data"
    }
   ],
   "source": [
    "Conf_matrix=confusion_matrix(test_y, pred)\n",
    "plot_confusion_matrix(cm           = Conf_matrix, \n",
    "                      normalize    = False,\n",
    "                      target_names = ['Negative', 'Positive'],\n",
    "                      title        = \"Confusion Matrix\")"
   ]
  },
  {
   "cell_type": "code",
   "execution_count": 32,
   "metadata": {
    "scrolled": false
   },
   "outputs": [
    {
     "name": "stdout",
     "output_type": "stream",
     "text": [
      "[[ 398 1620]\n",
      " [ 142 9494]]\n"
     ]
    },
    {
     "data": {
      "text/html": [
       "<div>\n",
       "<style scoped>\n",
       "    .dataframe tbody tr th:only-of-type {\n",
       "        vertical-align: middle;\n",
       "    }\n",
       "\n",
       "    .dataframe tbody tr th {\n",
       "        vertical-align: top;\n",
       "    }\n",
       "\n",
       "    .dataframe thead th {\n",
       "        text-align: right;\n",
       "    }\n",
       "</style>\n",
       "<table border=\"1\" class=\"dataframe\">\n",
       "  <thead>\n",
       "    <tr style=\"text-align: right;\">\n",
       "      <th>Predicted</th>\n",
       "      <th>0</th>\n",
       "      <th>1</th>\n",
       "      <th>All</th>\n",
       "    </tr>\n",
       "    <tr>\n",
       "      <th>True</th>\n",
       "      <th></th>\n",
       "      <th></th>\n",
       "      <th></th>\n",
       "    </tr>\n",
       "  </thead>\n",
       "  <tbody>\n",
       "    <tr>\n",
       "      <th>0</th>\n",
       "      <td>398</td>\n",
       "      <td>1620</td>\n",
       "      <td>2018</td>\n",
       "    </tr>\n",
       "    <tr>\n",
       "      <th>1</th>\n",
       "      <td>142</td>\n",
       "      <td>9494</td>\n",
       "      <td>9636</td>\n",
       "    </tr>\n",
       "    <tr>\n",
       "      <th>All</th>\n",
       "      <td>540</td>\n",
       "      <td>11114</td>\n",
       "      <td>11654</td>\n",
       "    </tr>\n",
       "  </tbody>\n",
       "</table>\n",
       "</div>"
      ],
      "text/plain": [
       "Predicted    0      1    All\n",
       "True                        \n",
       "0          398   1620   2018\n",
       "1          142   9494   9636\n",
       "All        540  11114  11654"
      ]
     },
     "execution_count": 32,
     "metadata": {},
     "output_type": "execute_result"
    },
    {
     "data": {
      "image/png": "[encoded data removed]",
      "text/plain": [
       "<Figure size 432x288 with 2 Axes>"
      ]
     },
     "metadata": {},
     "output_type": "display_data"
    }
   ],
   "source": [
    "print(Conf_matrix)\n",
    "import seaborn as sn\n",
    "cm=pd.DataFrame(Conf_matrix,index=['Positive','Negative'],columns=['Positive','Negative'])\n",
    "\n",
    "sn.heatmap(cm,annot=True,annot_kws={\"size\": 12})#font-size\n",
    "\n",
    "pd.crosstab(test_y, pred, rownames=['True'], colnames=['Predicted'], margins=True)"
   ]
  },
  {
   "cell_type": "code",
   "execution_count": 33,
   "metadata": {
    "scrolled": false
   },
   "outputs": [
    {
     "name": "stdout",
     "output_type": "stream",
     "text": [
      "             precision    recall  f1-score   support\n",
      "\n",
      "          0       0.74      0.20      0.31      2018\n",
      "          1       0.85      0.99      0.92      9636\n",
      "\n",
      "avg / total       0.83      0.85      0.81     11654\n",
      "\n"
     ]
    }
   ],
   "source": [
    "print(classification_report(test_y, pred))  "
   ]
  },
  {
   "cell_type": "markdown",
   "metadata": {},
   "source": [
    "# Conclusion"
   ]
  },
  {
   "cell_type": "code",
   "execution_count": 23,
   "metadata": {
    "scrolled": false
   },
   "outputs": [
    {
     "name": "stdout",
     "output_type": "stream",
     "text": [
      "** Conclusion : Accuracy for Amazon review dataset with different vectorizers \n",
      "\n",
      "+--------------------+-------+------------------+-------------------+\n",
      "|     Vectorizer     | Model | Hyper Parameters | Accuracy/F1-score |\n",
      "+--------------------+-------+------------------+-------------------+\n",
      "|        BOW         | BRUTE |        9         |       90.75       |\n",
      "|       TFIDF        | BRUTE |        7         |       91.37       |\n",
      "|      Avg-W2V       | BRUTE |        13        |       91.92       |\n",
      "| Tfidf weighted W2V | BRUTE |        23        |        91.5       |\n",
      "+--------------------+-------+------------------+-------------------+\n"
     ]
    }
   ],
   "source": [
    "\n",
    "from prettytable import PrettyTable\n",
    "\n",
    "x=PrettyTable()\n",
    "\n",
    "x.field_names=[\"Vectorizer\",\"Model\",\"Hyper Parameters\",\"Accuracy/F1-score\"]\n",
    "\n",
    "x.add_row(['BOW','BRUTE','9','90.75'])\n",
    "x.add_row(['TFIDF','BRUTE','7','91.37'])\n",
    "x.add_row(['Avg-W2V','BRUTE','13','91.92'])\n",
    "x.add_row(['Tfidf weighted W2V','BRUTE','23','91.5'])\n",
    "print('** Conclusion : Accuracy for Amazon review dataset with different vectorizers \\n')\n",
    "print(x)\n"
   ]
  },
  {
   "cell_type": "code",
   "execution_count": null,
   "metadata": {
    "scrolled": false
   },
   "outputs": [],
   "source": []
  }
 ],
 "metadata": {
  "kernelspec": {
   "display_name": "Python 3",
   "language": "python",
   "name": "python3"
  },
  "language_info": {
   "codemirror_mode": {
    "name": "ipython",
    "version": 3
   },
   "file_extension": ".py",
   "mimetype": "text/x-python",
   "name": "python",
   "nbconvert_exporter": "python",
   "pygments_lexer": "ipython3",
   "version": "3.6.5"
  }
 },
 "nbformat": 4,
 "nbformat_minor": 2
}
